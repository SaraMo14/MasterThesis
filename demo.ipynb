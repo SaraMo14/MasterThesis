{
 "cells": [
  {
   "cell_type": "code",
   "execution_count": 29,
   "metadata": {},
   "outputs": [],
   "source": [
    "import pandas as pd\n",
    "from example.discretizer.discretizer  import AVDiscretizer, Action\n",
    "from example.discretizer.discretizer_d1a  import AVDiscretizerD1a\n",
    "from example.transition import TransitionRecorded\n",
    "import matplotlib.pyplot as plt\n",
    "from pathlib import Path\n",
    "import pgeon.policy_graph as PG\n",
    "from example.environment import SelfDrivingEnvironment\n",
    "from nuscenes import NuScenes"
   ]
  },
  {
   "cell_type": "code",
   "execution_count": 30,
   "metadata": {},
   "outputs": [],
   "source": [
    "#path where you stored the copy of the nuScenes dataset.\n",
    "DATAROOT = Path('/home/saramontese/Desktop/MasterThesis/example/dataset/data/sets/nuscenes')\n",
    "\n",
    "#MINI\n",
    "#nuscenes = NuScenes('v1.0-mini', dataroot=DATAROOT)\n",
    "\n",
    "#FULL\n",
    "#nuscenes = NuScenes('v1.0-trainval', dataroot=DATAROOT)"
   ]
  },
  {
   "cell_type": "markdown",
   "metadata": {},
   "source": [
    "The dataset contains the following columns for each state of the self-driving car:\n",
    "\n",
    "- instance_token: A unique identifier for the vehicle instance.\n",
    "- translation: The vehicle's position in 3D space (x, y, z coordinates).\n",
    "- yaw: The orientation of the vehicle around the vertical axis (rotation angle).\n",
    "- velocity: The vehicle's speed in a given direction.\n",
    "- acceleration: The change in velocity over time.\n",
    "- heading_change_rate: The rate of change of the vehicle's direction.\n",
    "- timestamp: The time at which the state was recorded.\n",
    "- scene_token: A unique identifier for the scenario or environment the vehicle is in\n",
    "- detected_objects: detected objects in the surrounding of the vehicle\n"
   ]
  },
  {
   "cell_type": "markdown",
   "metadata": {},
   "source": [
    "Load the CSV data into a DataFrame\n"
   ]
  },
  {
   "cell_type": "code",
   "execution_count": 32,
   "metadata": {},
   "outputs": [
    {
     "data": {
      "text/html": [
       "<div>\n",
       "<style scoped>\n",
       "    .dataframe tbody tr th:only-of-type {\n",
       "        vertical-align: middle;\n",
       "    }\n",
       "\n",
       "    .dataframe tbody tr th {\n",
       "        vertical-align: top;\n",
       "    }\n",
       "\n",
       "    .dataframe thead th {\n",
       "        text-align: right;\n",
       "    }\n",
       "</style>\n",
       "<table border=\"1\" class=\"dataframe\">\n",
       "  <thead>\n",
       "    <tr style=\"text-align: right;\">\n",
       "      <th></th>\n",
       "      <th>scene_token</th>\n",
       "      <th>steering_angle</th>\n",
       "      <th>modality</th>\n",
       "      <th>timestamp</th>\n",
       "      <th>rotation</th>\n",
       "      <th>x</th>\n",
       "      <th>y</th>\n",
       "      <th>z</th>\n",
       "      <th>yaw</th>\n",
       "      <th>velocity</th>\n",
       "      <th>acceleration</th>\n",
       "      <th>delta_local_x</th>\n",
       "      <th>delta_local_y</th>\n",
       "    </tr>\n",
       "  </thead>\n",
       "  <tbody>\n",
       "    <tr>\n",
       "      <th>0</th>\n",
       "      <td>2fc3753772e241f2ab2cd16a784cc680</td>\n",
       "      <td>-0.202386</td>\n",
       "      <td>lidar</td>\n",
       "      <td>2018-08-30 19:25:09.301132</td>\n",
       "      <td>[-0.1557237496690409, 0.011222825001502285, 0....</td>\n",
       "      <td>329.647494</td>\n",
       "      <td>660.196689</td>\n",
       "      <td>0.0</td>\n",
       "      <td>2.828707</td>\n",
       "      <td>5.108550</td>\n",
       "      <td>-0.034804</td>\n",
       "      <td>0.000000</td>\n",
       "      <td>0.000000</td>\n",
       "    </tr>\n",
       "    <tr>\n",
       "      <th>1</th>\n",
       "      <td>2fc3753772e241f2ab2cd16a784cc680</td>\n",
       "      <td>-0.125592</td>\n",
       "      <td>lidar</td>\n",
       "      <td>2018-08-30 19:25:09.801064</td>\n",
       "      <td>[-0.16117694469754024, 0.009157178788916257, 0...</td>\n",
       "      <td>327.233834</td>\n",
       "      <td>661.025514</td>\n",
       "      <td>0.0</td>\n",
       "      <td>2.817706</td>\n",
       "      <td>5.104695</td>\n",
       "      <td>-0.007711</td>\n",
       "      <td>0.045648</td>\n",
       "      <td>2.551592</td>\n",
       "    </tr>\n",
       "    <tr>\n",
       "      <th>2</th>\n",
       "      <td>2fc3753772e241f2ab2cd16a784cc680</td>\n",
       "      <td>-0.410080</td>\n",
       "      <td>lidar</td>\n",
       "      <td>2018-08-30 19:25:10.651414</td>\n",
       "      <td>[-0.16605361559690043, 0.007585584174464603, -...</td>\n",
       "      <td>323.362925</td>\n",
       "      <td>662.405363</td>\n",
       "      <td>0.0</td>\n",
       "      <td>2.807968</td>\n",
       "      <td>4.709219</td>\n",
       "      <td>-0.583132</td>\n",
       "      <td>0.076174</td>\n",
       "      <td>4.108786</td>\n",
       "    </tr>\n",
       "    <tr>\n",
       "      <th>3</th>\n",
       "      <td>2fc3753772e241f2ab2cd16a784cc680</td>\n",
       "      <td>-0.591595</td>\n",
       "      <td>lidar</td>\n",
       "      <td>2018-08-30 19:25:11.149672</td>\n",
       "      <td>[-0.1790782272855317, 0.009448521999393368, -0...</td>\n",
       "      <td>321.358449</td>\n",
       "      <td>663.164911</td>\n",
       "      <td>0.0</td>\n",
       "      <td>2.781689</td>\n",
       "      <td>4.302103</td>\n",
       "      <td>-0.817080</td>\n",
       "      <td>0.061262</td>\n",
       "      <td>2.142681</td>\n",
       "    </tr>\n",
       "    <tr>\n",
       "      <th>4</th>\n",
       "      <td>2fc3753772e241f2ab2cd16a784cc680</td>\n",
       "      <td>-0.256491</td>\n",
       "      <td>lidar</td>\n",
       "      <td>2018-08-30 19:25:11.649009</td>\n",
       "      <td>[-0.19383694099663118, 0.006067266248244902, -...</td>\n",
       "      <td>319.518145</td>\n",
       "      <td>663.938454</td>\n",
       "      <td>0.0</td>\n",
       "      <td>2.751458</td>\n",
       "      <td>3.997839</td>\n",
       "      <td>-0.609336</td>\n",
       "      <td>0.075857</td>\n",
       "      <td>1.994827</td>\n",
       "    </tr>\n",
       "  </tbody>\n",
       "</table>\n",
       "</div>"
      ],
      "text/plain": [
       "                        scene_token  steering_angle modality  \\\n",
       "0  2fc3753772e241f2ab2cd16a784cc680       -0.202386    lidar   \n",
       "1  2fc3753772e241f2ab2cd16a784cc680       -0.125592    lidar   \n",
       "2  2fc3753772e241f2ab2cd16a784cc680       -0.410080    lidar   \n",
       "3  2fc3753772e241f2ab2cd16a784cc680       -0.591595    lidar   \n",
       "4  2fc3753772e241f2ab2cd16a784cc680       -0.256491    lidar   \n",
       "\n",
       "                   timestamp  \\\n",
       "0 2018-08-30 19:25:09.301132   \n",
       "1 2018-08-30 19:25:09.801064   \n",
       "2 2018-08-30 19:25:10.651414   \n",
       "3 2018-08-30 19:25:11.149672   \n",
       "4 2018-08-30 19:25:11.649009   \n",
       "\n",
       "                                            rotation           x           y  \\\n",
       "0  [-0.1557237496690409, 0.011222825001502285, 0....  329.647494  660.196689   \n",
       "1  [-0.16117694469754024, 0.009157178788916257, 0...  327.233834  661.025514   \n",
       "2  [-0.16605361559690043, 0.007585584174464603, -...  323.362925  662.405363   \n",
       "3  [-0.1790782272855317, 0.009448521999393368, -0...  321.358449  663.164911   \n",
       "4  [-0.19383694099663118, 0.006067266248244902, -...  319.518145  663.938454   \n",
       "\n",
       "     z       yaw  velocity  acceleration  delta_local_x  delta_local_y  \n",
       "0  0.0  2.828707  5.108550     -0.034804       0.000000       0.000000  \n",
       "1  0.0  2.817706  5.104695     -0.007711       0.045648       2.551592  \n",
       "2  0.0  2.807968  4.709219     -0.583132       0.076174       4.108786  \n",
       "3  0.0  2.781689  4.302103     -0.817080       0.061262       2.142681  \n",
       "4  0.0  2.751458  3.997839     -0.609336       0.075857       1.994827  "
      ]
     },
     "execution_count": 32,
     "metadata": {},
     "output_type": "execute_result"
    }
   ],
   "source": [
    "\n",
    "dtype_dict = {\n",
    "    'modality': 'category',  # for limited set of modalities, 'category' is efficient\n",
    "    'scene_token': 'str',  \n",
    "    'timestamp': 'str',  # To enable datetime operations\n",
    "    'rotation': 'object',  # Quaternion (lists)\n",
    "    'x': 'float64',\n",
    "    'y': 'float64',\n",
    "    'z': 'float64',\n",
    "    'yaw': 'float64',  \n",
    "    'velocity': 'float64',\n",
    "    'acceleration': 'float64',\n",
    "    'heading_change_rate': 'float64',\n",
    "    'delta_local_x': 'float64',\n",
    "    'delta_local_y': 'float64'}\n",
    "df = pd.read_csv(DATAROOT / 'train_v1.0-mini_lidar_0.csv', dtype=dtype_dict, parse_dates=['timestamp'])\n",
    "#df['detect_CAM_FRONT'] = df['detect_CAM_FRONT'].apply(lambda x: ast.literal_eval(x))\n",
    "#df['detect_CAM_BACK'] = df['detect_CAM_BACK'].apply(lambda x: ast.literal_eval(x))\n",
    "df.head()"
   ]
  },
  {
   "cell_type": "markdown",
   "metadata": {},
   "source": [
    "## Trajectory of AV in a Scene"
   ]
  },
  {
   "cell_type": "markdown",
   "metadata": {},
   "source": [
    "Let's do an example of computing trajectory of a vehicle in a scene. We then check if the rendering of the scene match the computed trajectory."
   ]
  },
  {
   "cell_type": "code",
   "execution_count": 33,
   "metadata": {},
   "outputs": [],
   "source": [
    "# initialize discretizer\n",
    "av_discretizer = AVDiscretizer()\n"
   ]
  },
  {
   "cell_type": "markdown",
   "metadata": {},
   "source": [
    "List of scenes"
   ]
  },
  {
   "cell_type": "code",
   "execution_count": 34,
   "metadata": {},
   "outputs": [
    {
     "data": {
      "text/plain": [
       "array(['2fc3753772e241f2ab2cd16a784cc680',\n",
       "       '6f83169d067343658251f72e1dd17dbc',\n",
       "       'bebf5f5b2a674631ab5c88fd1aa9e87a',\n",
       "       'c5224b9b454b4ded9b5d2d2634bbda8a',\n",
       "       'cc8c0bf57f984915a77078b10eb33198',\n",
       "       'd25718445d89453381c659b9c8734939',\n",
       "       'de7d80a1f5fb4c3e82ce8a4f213b450a',\n",
       "       'fcbccedd61424f1b85dcbf8f897f9754'], dtype=object)"
      ]
     },
     "execution_count": 34,
     "metadata": {},
     "output_type": "execute_result"
    }
   ],
   "source": [
    "df['scene_token'].unique()"
   ]
  },
  {
   "cell_type": "markdown",
   "metadata": {},
   "source": [
    "Select a scene and test the  algorithm\n"
   ]
  },
  {
   "cell_type": "code",
   "execution_count": 37,
   "metadata": {},
   "outputs": [
    {
     "data": {
      "text/html": [
       "<div>\n",
       "<style scoped>\n",
       "    .dataframe tbody tr th:only-of-type {\n",
       "        vertical-align: middle;\n",
       "    }\n",
       "\n",
       "    .dataframe tbody tr th {\n",
       "        vertical-align: top;\n",
       "    }\n",
       "\n",
       "    .dataframe thead th {\n",
       "        text-align: right;\n",
       "    }\n",
       "</style>\n",
       "<table border=\"1\" class=\"dataframe\">\n",
       "  <thead>\n",
       "    <tr style=\"text-align: right;\">\n",
       "      <th></th>\n",
       "      <th>scene_token</th>\n",
       "      <th>steering_angle</th>\n",
       "      <th>modality</th>\n",
       "      <th>timestamp</th>\n",
       "      <th>rotation</th>\n",
       "      <th>x</th>\n",
       "      <th>y</th>\n",
       "      <th>z</th>\n",
       "      <th>yaw</th>\n",
       "      <th>velocity</th>\n",
       "      <th>acceleration</th>\n",
       "      <th>delta_local_x</th>\n",
       "      <th>delta_local_y</th>\n",
       "    </tr>\n",
       "  </thead>\n",
       "  <tbody>\n",
       "    <tr>\n",
       "      <th>0</th>\n",
       "      <td>2fc3753772e241f2ab2cd16a784cc680</td>\n",
       "      <td>-0.202386</td>\n",
       "      <td>lidar</td>\n",
       "      <td>2018-08-30 19:25:09.301132</td>\n",
       "      <td>[-0.1557237496690409, 0.011222825001502285, 0....</td>\n",
       "      <td>329.647494</td>\n",
       "      <td>660.196689</td>\n",
       "      <td>0.0</td>\n",
       "      <td>2.828707</td>\n",
       "      <td>5.108550</td>\n",
       "      <td>-0.034804</td>\n",
       "      <td>0.000000</td>\n",
       "      <td>0.000000</td>\n",
       "    </tr>\n",
       "    <tr>\n",
       "      <th>1</th>\n",
       "      <td>2fc3753772e241f2ab2cd16a784cc680</td>\n",
       "      <td>-0.125592</td>\n",
       "      <td>lidar</td>\n",
       "      <td>2018-08-30 19:25:09.801064</td>\n",
       "      <td>[-0.16117694469754024, 0.009157178788916257, 0...</td>\n",
       "      <td>327.233834</td>\n",
       "      <td>661.025514</td>\n",
       "      <td>0.0</td>\n",
       "      <td>2.817706</td>\n",
       "      <td>5.104695</td>\n",
       "      <td>-0.007711</td>\n",
       "      <td>0.045648</td>\n",
       "      <td>2.551592</td>\n",
       "    </tr>\n",
       "    <tr>\n",
       "      <th>2</th>\n",
       "      <td>2fc3753772e241f2ab2cd16a784cc680</td>\n",
       "      <td>-0.410080</td>\n",
       "      <td>lidar</td>\n",
       "      <td>2018-08-30 19:25:10.651414</td>\n",
       "      <td>[-0.16605361559690043, 0.007585584174464603, -...</td>\n",
       "      <td>323.362925</td>\n",
       "      <td>662.405363</td>\n",
       "      <td>0.0</td>\n",
       "      <td>2.807968</td>\n",
       "      <td>4.709219</td>\n",
       "      <td>-0.583132</td>\n",
       "      <td>0.076174</td>\n",
       "      <td>4.108786</td>\n",
       "    </tr>\n",
       "    <tr>\n",
       "      <th>3</th>\n",
       "      <td>2fc3753772e241f2ab2cd16a784cc680</td>\n",
       "      <td>-0.591595</td>\n",
       "      <td>lidar</td>\n",
       "      <td>2018-08-30 19:25:11.149672</td>\n",
       "      <td>[-0.1790782272855317, 0.009448521999393368, -0...</td>\n",
       "      <td>321.358449</td>\n",
       "      <td>663.164911</td>\n",
       "      <td>0.0</td>\n",
       "      <td>2.781689</td>\n",
       "      <td>4.302103</td>\n",
       "      <td>-0.817080</td>\n",
       "      <td>0.061262</td>\n",
       "      <td>2.142681</td>\n",
       "    </tr>\n",
       "    <tr>\n",
       "      <th>4</th>\n",
       "      <td>2fc3753772e241f2ab2cd16a784cc680</td>\n",
       "      <td>-0.256491</td>\n",
       "      <td>lidar</td>\n",
       "      <td>2018-08-30 19:25:11.649009</td>\n",
       "      <td>[-0.19383694099663118, 0.006067266248244902, -...</td>\n",
       "      <td>319.518145</td>\n",
       "      <td>663.938454</td>\n",
       "      <td>0.0</td>\n",
       "      <td>2.751458</td>\n",
       "      <td>3.997839</td>\n",
       "      <td>-0.609336</td>\n",
       "      <td>0.075857</td>\n",
       "      <td>1.994827</td>\n",
       "    </tr>\n",
       "  </tbody>\n",
       "</table>\n",
       "</div>"
      ],
      "text/plain": [
       "                        scene_token  steering_angle modality  \\\n",
       "0  2fc3753772e241f2ab2cd16a784cc680       -0.202386    lidar   \n",
       "1  2fc3753772e241f2ab2cd16a784cc680       -0.125592    lidar   \n",
       "2  2fc3753772e241f2ab2cd16a784cc680       -0.410080    lidar   \n",
       "3  2fc3753772e241f2ab2cd16a784cc680       -0.591595    lidar   \n",
       "4  2fc3753772e241f2ab2cd16a784cc680       -0.256491    lidar   \n",
       "\n",
       "                   timestamp  \\\n",
       "0 2018-08-30 19:25:09.301132   \n",
       "1 2018-08-30 19:25:09.801064   \n",
       "2 2018-08-30 19:25:10.651414   \n",
       "3 2018-08-30 19:25:11.149672   \n",
       "4 2018-08-30 19:25:11.649009   \n",
       "\n",
       "                                            rotation           x           y  \\\n",
       "0  [-0.1557237496690409, 0.011222825001502285, 0....  329.647494  660.196689   \n",
       "1  [-0.16117694469754024, 0.009157178788916257, 0...  327.233834  661.025514   \n",
       "2  [-0.16605361559690043, 0.007585584174464603, -...  323.362925  662.405363   \n",
       "3  [-0.1790782272855317, 0.009448521999393368, -0...  321.358449  663.164911   \n",
       "4  [-0.19383694099663118, 0.006067266248244902, -...  319.518145  663.938454   \n",
       "\n",
       "     z       yaw  velocity  acceleration  delta_local_x  delta_local_y  \n",
       "0  0.0  2.828707  5.108550     -0.034804       0.000000       0.000000  \n",
       "1  0.0  2.817706  5.104695     -0.007711       0.045648       2.551592  \n",
       "2  0.0  2.807968  4.709219     -0.583132       0.076174       4.108786  \n",
       "3  0.0  2.781689  4.302103     -0.817080       0.061262       2.142681  \n",
       "4  0.0  2.751458  3.997839     -0.609336       0.075857       1.994827  "
      ]
     },
     "execution_count": 37,
     "metadata": {},
     "output_type": "execute_result"
    }
   ],
   "source": [
    "scene_test = df['scene_token'].unique()[0]\n",
    "example_scene_df = df[df['scene_token']==scene_test]\n",
    "example_scene_df.head()"
   ]
  },
  {
   "cell_type": "markdown",
   "metadata": {},
   "source": [
    "Compute the trajectoy of the scene"
   ]
  },
  {
   "cell_type": "code",
   "execution_count": 39,
   "metadata": {},
   "outputs": [
    {
     "ename": "TypeError",
     "evalue": "compute_trajectory() takes 2 positional arguments but 3 were given",
     "output_type": "error",
     "traceback": [
      "\u001b[0;31m---------------------------------------------------------------------------\u001b[0m",
      "\u001b[0;31mTypeError\u001b[0m                                 Traceback (most recent call last)",
      "Cell \u001b[0;32mIn[39], line 2\u001b[0m\n\u001b[1;32m      1\u001b[0m recorder \u001b[38;5;241m=\u001b[39m TransitionRecorded()\n\u001b[0;32m----> 2\u001b[0m trajectory \u001b[38;5;241m=\u001b[39m \u001b[43mav_discretizer\u001b[49m\u001b[38;5;241;43m.\u001b[39;49m\u001b[43mcompute_trajectory\u001b[49m\u001b[43m(\u001b[49m\u001b[43mexample_scene_df\u001b[49m\u001b[43m,\u001b[49m\u001b[43m \u001b[49m\u001b[38;5;28;43;01mTrue\u001b[39;49;00m\u001b[43m)\u001b[49m\n\u001b[1;32m      3\u001b[0m \u001b[38;5;66;03m#recorder.process_and_save_transitions(trajectory, av_discretizer.unique_states)\u001b[39;00m\n\u001b[1;32m      4\u001b[0m recorder\u001b[38;5;241m.\u001b[39mprocess_transitions(trajectory)\n",
      "\u001b[0;31mTypeError\u001b[0m: compute_trajectory() takes 2 positional arguments but 3 were given"
     ]
    }
   ],
   "source": [
    "recorder = TransitionRecorded()\n",
    "trajectory = av_discretizer.compute_trajectory(example_scene_df)\n",
    "#recorder.process_and_save_transitions(trajectory, av_discretizer.unique_states)\n",
    "recorder.process_transitions(trajectory)\n",
    "#recorder.save_to_csv(av_discretizer.unique_states)"
   ]
  },
  {
   "cell_type": "markdown",
   "metadata": {},
   "source": [
    "Plot trend of state in time for each instance of a scene."
   ]
  },
  {
   "cell_type": "code",
   "execution_count": 8,
   "metadata": {},
   "outputs": [
    {
     "data": {
      "image/png": "[encoded data removed]",
      "text/plain": [
       "<Figure size 1200x1000 with 4 Axes>"
      ]
     },
     "metadata": {},
     "output_type": "display_data"
    },
    {
     "data": {
      "image/png": "[encoded data removed]",
      "text/plain": [
       "<Figure size 600x400 with 1 Axes>"
      ]
     },
     "metadata": {},
     "output_type": "display_data"
    }
   ],
   "source": [
    "plt.figure(figsize=(12, 10))\n",
    "\n",
    "plt.subplot(5, 1, 1)\n",
    "for scene_token, group in example_scene_df.groupby('scene_token'):\n",
    "    plt.plot(group.index, group['velocity'], label=scene_token)\n",
    "plt.title('Velocity Over Time')\n",
    "plt.xlabel('Index')\n",
    "plt.ylabel('Velocity')\n",
    "plt.legend()\n",
    "\n",
    "plt.subplot(5, 1, 2)\n",
    "for scene_token, group in example_scene_df.groupby('scene_token'):\n",
    "    plt.plot(group.index, group['yaw'], label=scene_token)\n",
    "plt.title('Steering Angle Over Time')\n",
    "plt.xlabel('Time')\n",
    "plt.ylabel('Yaw (radians)')\n",
    "plt.legend()\n",
    "\n",
    "#plt.subplot(5, 1, 3)\n",
    "#for scene_token, group in example_scene_df.groupby('scene_token'):\n",
    "#    plt.plot(group.index, group['heading_change_rate'], label=scene_token)\n",
    "#plt.title('Heading Rate Over Time')\n",
    "#plt.xlabel('Time')\n",
    "#plt.ylabel('Heading Rate Change')\n",
    "#plt.legend()\n",
    "\n",
    "plt.subplot(5, 1, 4)\n",
    "for scene_token, group in example_scene_df.groupby('scene_token'):\n",
    "    plt.plot(group.index, group['x'], label=scene_token)\n",
    "plt.title('X Position Over Time')\n",
    "plt.xlabel('Time')\n",
    "plt.ylabel('X Position')\n",
    "plt.legend()\n",
    "\n",
    "plt.subplot(5, 1, 5)  # Moved inside the same plt.figure block\n",
    "for scene_token, group in example_scene_df.groupby('scene_token'):\n",
    "    plt.plot(group.index, group['y'], label=scene_token)\n",
    "plt.title('Y Position Over Time')\n",
    "plt.xlabel('Time')\n",
    "plt.ylabel('Y Position')\n",
    "plt.legend()\n",
    "\n",
    "plt.tight_layout()\n",
    "plt.show()\n",
    "\n",
    "\n",
    "# Plot x vs y positions for each instance\n",
    "plt.figure(figsize=(6, 4))\n",
    "for scene_token, group in example_scene_df.groupby('scene_token'):\n",
    "    plt.scatter(group['x'], group['y'], label=scene_token)\n",
    "plt.title('Vehicle path')\n",
    "plt.xlabel('X Position')\n",
    "plt.ylabel('Y Position')\n",
    "plt.legend()\n",
    "plt.show()"
   ]
  },
  {
   "cell_type": "markdown",
   "metadata": {},
   "source": [
    "To render the scene (video):"
   ]
  },
  {
   "cell_type": "code",
   "execution_count": 9,
   "metadata": {},
   "outputs": [],
   "source": [
    "#nuscenes.render_scene(scene_test)"
   ]
  },
  {
   "cell_type": "markdown",
   "metadata": {},
   "source": [
    "## All scenes trajectory information\n"
   ]
  },
  {
   "cell_type": "markdown",
   "metadata": {},
   "source": [
    "Now, apply the above to all scenes in the dataset."
   ]
  },
  {
   "cell_type": "code",
   "execution_count": 10,
   "metadata": {},
   "outputs": [],
   "source": [
    "av_discretizer = AVDiscretizerD1a()\n",
    "trajectory = av_discretizer.compute_trajectory(df)"
   ]
  },
  {
   "cell_type": "code",
   "execution_count": 11,
   "metadata": {},
   "outputs": [],
   "source": [
    "transition = TransitionRecorded()\n",
    "transition.process_transitions(trajectory)\n",
    "transition.save_to_csv(av_discretizer.unique_states, path=str(DATAROOT))"
   ]
  },
  {
   "cell_type": "markdown",
   "metadata": {},
   "source": [
    "# Policy Graph Generation"
   ]
  },
  {
   "cell_type": "code",
   "execution_count": 12,
   "metadata": {},
   "outputs": [],
   "source": [
    "av_discretizer = AVDiscretizerD1a()\n",
    "env = SelfDrivingEnvironment(av_discretizer)\n",
    "pg = PG.PolicyGraph.from_nodes_and_edges(str(DATAROOT / 'nuscenes_nodes.csv'), str(DATAROOT / 'nuscenes_edges.csv'), env, av_discretizer  )"
   ]
  },
  {
   "cell_type": "code",
   "execution_count": 13,
   "metadata": {},
   "outputs": [
    {
     "name": "stdout",
     "output_type": "stream",
     "text": [
      "Number of nodes: 243\n",
      "Number of edges: 287\n"
     ]
    }
   ],
   "source": [
    "print(f'Number of nodes: {len(pg.nodes)}')\n",
    "print(f'Number of edges: {len(pg.edges)}')"
   ]
  },
  {
   "cell_type": "code",
   "execution_count": 14,
   "metadata": {},
   "outputs": [
    {
     "name": "stdout",
     "output_type": "stream",
     "text": [
      "(Position(77,167), Velocity(STOPPED), Rotation(SLIGHT_RIGHT), DetectInFront(1-4), DetectBack(1-4))\n",
      "  Times visited: 6\n",
      "  p(s):          0.016\n"
     ]
    }
   ],
   "source": [
    "arbitrary_state = list(pg.nodes)[10]\n",
    "\n",
    "print(arbitrary_state)\n",
    "print(f'  Times visited: {pg.nodes[arbitrary_state][\"frequency\"]}')\n",
    "print(f'  p(s):          {pg.nodes[arbitrary_state][\"probability\"]:.3f}')"
   ]
  },
  {
   "cell_type": "code",
   "execution_count": 15,
   "metadata": {},
   "outputs": [
    {
     "name": "stdout",
     "output_type": "stream",
     "text": [
      "From:    (Position(448,216), Velocity(MEDIUM), Rotation(FORWARD), DetectInFront(5+), DetectBack(5+))\n",
      "Action:  4\n",
      "To:      (Position(450,216), Velocity(MEDIUM), Rotation(FORWARD), DetectInFront(5+), DetectBack(5+))\n",
      "  Times visited:      1\n",
      "  p(s_to,a | s_from): 1.000\n"
     ]
    }
   ],
   "source": [
    "arbitrary_edge = list(pg.edges)[66]\n",
    "\n",
    "print(f'From:    {arbitrary_edge[0]}')\n",
    "print(f'Action:  {arbitrary_edge[2]}')\n",
    "print(f'To:      {arbitrary_edge[1]}')\n",
    "print(f'  Times visited:      {pg[arbitrary_edge[0]][arbitrary_edge[1]][arbitrary_edge[2]][\"frequency\"]}')\n",
    "print(f'  p(s_to,a | s_from): {pg[arbitrary_edge[0]][arbitrary_edge[1]][arbitrary_edge[2]][\"probability\"]:.3f}')"
   ]
  },
  {
   "cell_type": "markdown",
   "metadata": {},
   "source": [
    "### Using PG-based policies"
   ]
  },
  {
   "cell_type": "code",
   "execution_count": 16,
   "metadata": {},
   "outputs": [],
   "source": [
    "from pgeon import PGBasedPolicy, PGBasedPolicyMode, PGBasedPolicyNodeNotFoundMode\n",
    "import numpy as np"
   ]
  },
  {
   "cell_type": "code",
   "execution_count": 17,
   "metadata": {},
   "outputs": [
    {
     "name": "stdout",
     "output_type": "stream",
     "text": [
      "Policy Graph with PGBasedPolicyMode.STOCHASTIC and PGBasedPolicyNodeNotFoundMode.FIND_SIMILAR_NODES\n",
      "PG number of nodes: 243\n",
      "PG number of edges: 287\n"
     ]
    }
   ],
   "source": [
    "policy_mode = PGBasedPolicyMode.STOCHASTIC\n",
    "node_not_found_mode = PGBasedPolicyNodeNotFoundMode.FIND_SIMILAR_NODES\n",
    "\n",
    "policy = PGBasedPolicy(pg, policy_mode,node_not_found_mode )\n",
    "pg._normalize()\n",
    "print(f'Policy Graph with {policy_mode} and {node_not_found_mode}')\n",
    "print(f'PG number of nodes: {len(policy.pg.nodes)}')\n",
    "print(f'PG number of edges: {len(policy.pg.edges)}')\n",
    "        \n",
    "\n",
    "\n",
    "initial_state = np.array([329.6474941596216, 660.1966888688361, 5.108549775006556, -0.2023862177193762])\n",
    "data = {\n",
    "    'CAM_FRONT': \"{('vehicle.bus.rigid', 'vehicle.moving'): 1, ('vehicle.construction', 'vehicle.parked'): 1}\",\n",
    "    'CAM_BACK': \"{}\"#{('vehicle.truck', 'vehicle.moving'): 1, ('vehicle.car', 'vehicle.moving'): 1, ('vehicle.car', 'vehicle.parked'): 2}\n",
    "        }\n",
    "objects = pd.Series(data)\n",
    "   \n",
    "final_state = np.array([309.1878607795861, 668.6677254778403,  7.946119310024729e-05, -1.2007145498601297])\n",
    "policy.pg.discretizer.detection_cameras = ['CAM_FRONT', 'CAM_BACK' ]\n",
    "\n",
    "discretized_obs = policy.pg.discretizer.discretize(initial_state, objects)\n",
    "str_obs = av_discretizer.state_to_str(discretized_obs)\n",
    "str_to_state = av_discretizer.str_to_state(str_obs)\n",
    "\n",
    "action, is_destination = policy.act(discretized_obs)\n",
    "\n",
    "\n",
    "\n"
   ]
  },
  {
   "cell_type": "code",
   "execution_count": 18,
   "metadata": {},
   "outputs": [
    {
     "data": {
      "text/plain": [
       "(Position(82,165),\n",
       " Velocity(LOW),\n",
       " Rotation(FORWARD),\n",
       " DetectInFront(1-4),\n",
       " DetectBack(0))"
      ]
     },
     "execution_count": 18,
     "metadata": {},
     "output_type": "execute_result"
    }
   ],
   "source": [
    "str_to_state"
   ]
  },
  {
   "cell_type": "markdown",
   "metadata": {},
   "source": [
    "Question 1"
   ]
  },
  {
   "cell_type": "code",
   "execution_count": 19,
   "metadata": {},
   "outputs": [
    {
     "name": "stdout",
     "output_type": "stream",
     "text": [
      "I will take one of these actions:\n",
      "\t-> STRAIGHT \tProb: 100.0 %\n"
     ]
    }
   ],
   "source": [
    "possible_actions = pg.question1(discretized_obs, verbose=True)"
   ]
  },
  {
   "cell_type": "markdown",
   "metadata": {},
   "source": [
    "Question 2"
   ]
  },
  {
   "cell_type": "code",
   "execution_count": 20,
   "metadata": {},
   "outputs": [
    {
     "name": "stdout",
     "output_type": "stream",
     "text": [
      "*********************************\n",
      "* When do you perform action 3?\n",
      "*********************************\n",
      "Most probable in 5 states:\n",
      "\t-> (Position(176,447), Velocity(LOW), Rotation(SLIGHT_RIGHT), DetectInFront(5+), DetectBack(1-4))\n",
      "\t-> (Position(175,446), Velocity(LOW), Rotation(SLIGHT_RIGHT), DetectInFront(5+), DetectBack(5+))\n",
      "\t-> (Position(178,451), Velocity(LOW), Rotation(RIGHT), DetectInFront(5+), DetectBack(1-4))\n",
      "\t-> (Position(177,448), Velocity(LOW), Rotation(SLIGHT_RIGHT), DetectInFront(5+), DetectBack(1-4))\n",
      "\t-> (Position(177,448), Velocity(LOW), Rotation(SLIGHT_RIGHT), DetectInFront(5+), DetectBack(5+))\n"
     ]
    }
   ],
   "source": [
    "action_id = AVDiscretizer.get_action_id(Action.TURN_RIGHT)\n",
    "best_states = pg.question2(action_id, verbose=True)\n",
    "                "
   ]
  },
  {
   "cell_type": "code",
   "execution_count": 21,
   "metadata": {},
   "outputs": [
    {
     "name": "stdout",
     "output_type": "stream",
     "text": [
      "Policy Graph with PGBasedPolicyMode.STOCHASTIC and PGBasedPolicyNodeNotFoundMode.RANDOM_UNIFORM\n",
      "\n",
      "Supposing I was in (Position(82,165), Velocity(LOW), Rotation(FORWARD), DetectInFront(1-4), DetectBack(0)), if I did not choose to BRAKE was due to...\n",
      "***********************************************\n",
      "* Why did not you perform X action in Y state?\n",
      "***********************************************\n",
      "I would have chosen: 2\n",
      "I would have chosen 5 under the following conditions:\n",
      "\tI don't know where I would have ended up\n",
      "\n",
      "Policy Graph with PGBasedPolicyMode.STOCHASTIC and PGBasedPolicyNodeNotFoundMode.FIND_SIMILAR_NODES\n",
      "\n",
      "Supposing I was in (Position(82,165), Velocity(LOW), Rotation(FORWARD), DetectInFront(1-4), DetectBack(0)), if I did not choose to BRAKE was due to...\n",
      "***********************************************\n",
      "* Why did not you perform X action in Y state?\n",
      "***********************************************\n",
      "I would have chosen: 11\n",
      "I would have chosen 5 under the following conditions:\n",
      "\tI don't know where I would have ended up\n",
      "\n",
      "Policy Graph with PGBasedPolicyMode.GREEDY and PGBasedPolicyNodeNotFoundMode.RANDOM_UNIFORM\n",
      "\n",
      "Supposing I was in (Position(82,165), Velocity(LOW), Rotation(FORWARD), DetectInFront(1-4), DetectBack(0)), if I did not choose to BRAKE was due to...\n"
     ]
    },
    {
     "name": "stdout",
     "output_type": "stream",
     "text": [
      "***********************************************\n",
      "* Why did not you perform X action in Y state?\n",
      "***********************************************\n",
      "I would have chosen: 1\n",
      "I would have chosen 5 under the following conditions:\n",
      "\tI don't know where I would have ended up\n",
      "\n",
      "Policy Graph with PGBasedPolicyMode.GREEDY and PGBasedPolicyNodeNotFoundMode.FIND_SIMILAR_NODES\n",
      "\n",
      "Supposing I was in (Position(82,165), Velocity(LOW), Rotation(FORWARD), DetectInFront(1-4), DetectBack(0)), if I did not choose to BRAKE was due to...\n",
      "***********************************************\n",
      "* Why did not you perform X action in Y state?\n",
      "***********************************************\n",
      "I would have chosen: 1\n",
      "I would have chosen 5 under the following conditions:\n",
      "\tI don't know where I would have ended up\n",
      "\n"
     ]
    }
   ],
   "source": [
    "policy_modes = [PGBasedPolicyMode.STOCHASTIC, PGBasedPolicyMode.GREEDY]\n",
    "node_not_found_modes = [PGBasedPolicyNodeNotFoundMode.RANDOM_UNIFORM, PGBasedPolicyNodeNotFoundMode.FIND_SIMILAR_NODES]\n",
    "action_id = AVDiscretizer.get_action_id(Action.BRAKE)\n",
    "\n",
    "\n",
    "for policy_mode in policy_modes:\n",
    "    for node_not_found_mode in node_not_found_modes:\n",
    "        policy = PGBasedPolicy(pg, mode=policy_mode,  node_not_found_mode=node_not_found_mode)\n",
    "        greedy = True if policy_mode is PGBasedPolicyMode.GREEDY else False\n",
    "        print(f'Policy Graph with {policy_mode} and {node_not_found_mode}')\n",
    "        print()\n",
    "        print(f'Supposing I was in {str_to_state}, '\n",
    "            f'if I did not choose to BRAKE was due to...')\n",
    "        policy.pg._normalize() #do i need to normalize before this step?\n",
    "        counterfactuals = policy.pg.question3(str_to_state, action_id, greedy, verbose=True)\n",
    "        \n",
    "        print()"
   ]
  },
  {
   "cell_type": "markdown",
   "metadata": {},
   "source": [
    "# Policy Graph Evaluation and Comparison"
   ]
  },
  {
   "cell_type": "markdown",
   "metadata": {},
   "source": [
    "## Compute Static Metrics\n"
   ]
  },
  {
   "cell_type": "code",
   "execution_count": 22,
   "metadata": {},
   "outputs": [
    {
     "name": "stdout",
     "output_type": "stream",
     "text": [
      "State: (Position(82,165), Velocity(LOW), Rotation(FORWARD), DetectInFront(1-4), DetectBack(1-4)), H(s): 0.00, Ha(s): 0.00, Hw(s): 0.00\n",
      "State: (Position(81,165), Velocity(LOW), Rotation(FORWARD), DetectInFront(1-4), DetectBack(5+)), H(s): 0.00, Ha(s): 0.00, Hw(s): 0.00\n",
      "State: (Position(80,165), Velocity(LOW), Rotation(SLIGHT_RIGHT), DetectInFront(1-4), DetectBack(5+)), H(s): 1.00, Ha(s): 0.00, Hw(s): 1.00\n",
      "State: (Position(79,165), Velocity(LOW), Rotation(FORWARD), DetectInFront(1-4), DetectBack(5+)), H(s): 0.00, Ha(s): 0.00, Hw(s): 0.00\n",
      "State: (Position(79,166), Velocity(LOW), Rotation(SLIGHT_RIGHT), DetectInFront(1-4), DetectBack(5+)), H(s): 0.00, Ha(s): 0.00, Hw(s): 0.00\n",
      "State: (Position(79,166), Velocity(LOW), Rotation(FORWARD), DetectInFront(1-4), DetectBack(5+)), H(s): 0.00, Ha(s): 0.00, Hw(s): 0.00\n",
      "State: (Position(78,166), Velocity(LOW), Rotation(FORWARD), DetectInFront(1-4), DetectBack(5+)), H(s): 0.92, Ha(s): 0.00, Hw(s): 0.92\n",
      "State: (Position(77,166), Velocity(LOW), Rotation(SLIGHT_RIGHT), DetectInFront(1-4), DetectBack(5+)), H(s): 1.50, Ha(s): 1.00, Hw(s): 0.50\n",
      "State: (Position(77,167), Velocity(LOW), Rotation(SLIGHT_RIGHT), DetectInFront(1-4), DetectBack(5+)), H(s): 0.92, Ha(s): 0.00, Hw(s): 0.92\n",
      "State: (Position(77,167), Velocity(LOW), Rotation(SLIGHT_RIGHT), DetectInFront(1-4), DetectBack(1-4)), H(s): 0.00, Ha(s): 0.00, Hw(s): 0.00\n",
      "State: (Position(77,167), Velocity(STOPPED), Rotation(SLIGHT_RIGHT), DetectInFront(1-4), DetectBack(1-4)), H(s): 0.65, Ha(s): 0.00, Hw(s): 0.65\n",
      "State: (Position(77,167), Velocity(STOPPED), Rotation(SLIGHT_RIGHT), DetectInFront(5+), DetectBack(1-4)), H(s): 0.00, Ha(s): 0.00, Hw(s): 0.00\n",
      "State: (Position(77,167), Velocity(STOPPED), Rotation(SLIGHT_RIGHT), DetectInFront(5+), DetectBack(5+)), H(s): 0.86, Ha(s): 0.00, Hw(s): 0.86\n",
      "State: (Position(77,167), Velocity(STOPPED), Rotation(SLIGHT_RIGHT), DetectInFront(1-4), DetectBack(5+)), H(s): 0.59, Ha(s): 0.00, Hw(s): 0.59\n",
      "State: (Position(179,451), Velocity(LOW), Rotation(RIGHT), DetectInFront(5+), DetectBack(1-4)), H(s): 0.00, Ha(s): 0.00, Hw(s): 0.00\n",
      "State: (Position(178,451), Velocity(LOW), Rotation(RIGHT), DetectInFront(5+), DetectBack(1-4)), H(s): 0.00, Ha(s): 0.00, Hw(s): 0.00\n",
      "State: (Position(178,450), Velocity(LOW), Rotation(SLIGHT_RIGHT), DetectInFront(5+), DetectBack(1-4)), H(s): 1.00, Ha(s): 0.00, Hw(s): 1.00\n",
      "State: (Position(178,449), Velocity(LOW), Rotation(SLIGHT_RIGHT), DetectInFront(5+), DetectBack(5+)), H(s): 0.00, Ha(s): 0.00, Hw(s): 0.00\n",
      "State: (Position(177,449), Velocity(LOW), Rotation(SLIGHT_RIGHT), DetectInFront(5+), DetectBack(1-4)), H(s): 0.00, Ha(s): 0.00, Hw(s): 0.00\n",
      "State: (Position(177,448), Velocity(LOW), Rotation(SLIGHT_RIGHT), DetectInFront(5+), DetectBack(5+)), H(s): 0.00, Ha(s): 0.00, Hw(s): 0.00\n",
      "State: (Position(177,448), Velocity(LOW), Rotation(SLIGHT_RIGHT), DetectInFront(5+), DetectBack(1-4)), H(s): 0.00, Ha(s): 0.00, Hw(s): 0.00\n",
      "State: (Position(176,447), Velocity(LOW), Rotation(SLIGHT_RIGHT), DetectInFront(5+), DetectBack(1-4)), H(s): 0.00, Ha(s): 0.00, Hw(s): 0.00\n",
      "State: (Position(176,447), Velocity(LOW), Rotation(SLIGHT_RIGHT), DetectInFront(5+), DetectBack(5+)), H(s): 1.00, Ha(s): 0.00, Hw(s): 1.00\n",
      "State: (Position(175,446), Velocity(LOW), Rotation(SLIGHT_RIGHT), DetectInFront(5+), DetectBack(5+)), H(s): 0.00, Ha(s): 0.00, Hw(s): 0.00\n",
      "State: (Position(175,446), Velocity(LOW), Rotation(RIGHT), DetectInFront(5+), DetectBack(5+)), H(s): 0.00, Ha(s): 0.00, Hw(s): 0.00\n",
      "State: (Position(174,446), Velocity(LOW), Rotation(RIGHT), DetectInFront(5+), DetectBack(5+)), H(s): 1.50, Ha(s): 1.00, Hw(s): 0.50\n",
      "State: (Position(173,446), Velocity(LOW), Rotation(RIGHT), DetectInFront(5+), DetectBack(5+)), H(s): 1.00, Ha(s): 0.00, Hw(s): 1.00\n",
      "State: (Position(172,446), Velocity(LOW), Rotation(SLIGHT_RIGHT), DetectInFront(5+), DetectBack(5+)), H(s): 1.00, Ha(s): 0.00, Hw(s): 1.00\n",
      "State: (Position(171,447), Velocity(LOW), Rotation(FORWARD), DetectInFront(5+), DetectBack(5+)), H(s): 1.50, Ha(s): 1.00, Hw(s): 0.50\n",
      "State: (Position(170,448), Velocity(LOW), Rotation(FORWARD), DetectInFront(5+), DetectBack(5+)), H(s): 1.00, Ha(s): 0.00, Hw(s): 1.00\n",
      "State: (Position(169,449), Velocity(LOW), Rotation(FORWARD), DetectInFront(5+), DetectBack(5+)), H(s): 1.50, Ha(s): 1.00, Hw(s): 0.50\n",
      "State: (Position(168,450), Velocity(LOW), Rotation(FORWARD), DetectInFront(5+), DetectBack(5+)), H(s): 0.00, Ha(s): 0.00, Hw(s): 0.00\n",
      "State: (Position(168,450), Velocity(MEDIUM), Rotation(FORWARD), DetectInFront(5+), DetectBack(5+)), H(s): 0.00, Ha(s): 0.00, Hw(s): 0.00\n",
      "State: (Position(167,451), Velocity(MEDIUM), Rotation(FORWARD), DetectInFront(5+), DetectBack(5+)), H(s): 1.00, Ha(s): 0.00, Hw(s): 1.00\n",
      "State: (Position(166,452), Velocity(LOW), Rotation(FORWARD), DetectInFront(5+), DetectBack(5+)), H(s): 0.00, Ha(s): 0.00, Hw(s): 0.00\n",
      "State: (Position(166,452), Velocity(LOW), Rotation(SLIGHT_LEFT), DetectInFront(5+), DetectBack(5+)), H(s): 0.00, Ha(s): 0.00, Hw(s): 0.00\n",
      "State: (Position(165,453), Velocity(LOW), Rotation(SLIGHT_LEFT), DetectInFront(5+), DetectBack(5+)), H(s): 1.00, Ha(s): 0.00, Hw(s): 1.00\n",
      "State: (Position(164,454), Velocity(LOW), Rotation(SLIGHT_LEFT), DetectInFront(5+), DetectBack(5+)), H(s): 0.00, Ha(s): 0.00, Hw(s): 0.00\n",
      "State: (Position(164,454), Velocity(LOW), Rotation(LEFT), DetectInFront(5+), DetectBack(5+)), H(s): 0.00, Ha(s): 0.00, Hw(s): 0.00\n",
      "State: (Position(163,454), Velocity(LOW), Rotation(LEFT), DetectInFront(5+), DetectBack(5+)), H(s): 0.00, Ha(s): 0.00, Hw(s): 0.00\n",
      "State: (Position(163,454), Velocity(LOW), Rotation(LEFT), DetectInFront(1-4), DetectBack(5+)), H(s): 1.00, Ha(s): 0.00, Hw(s): 1.00\n",
      "State: (Position(162,454), Velocity(LOW), Rotation(LEFT), DetectInFront(0), DetectBack(5+)), H(s): 0.00, Ha(s): 0.00, Hw(s): 0.00\n",
      "State: (Position(329,259), Velocity(STOPPED), Rotation(FORWARD), DetectInFront(5+), DetectBack(1-4)), H(s): 0.18, Ha(s): 0.00, Hw(s): 0.18\n",
      "State: (Position(329,259), Velocity(STOPPED), Rotation(FORWARD), DetectInFront(1-4), DetectBack(1-4)), H(s): 0.00, Ha(s): 0.00, Hw(s): 0.00\n",
      "State: (Position(445,216), Velocity(MEDIUM), Rotation(FORWARD), DetectInFront(5+), DetectBack(5+)), H(s): 0.00, Ha(s): 0.00, Hw(s): 0.00\n",
      "State: (Position(446,216), Velocity(MEDIUM), Rotation(FORWARD), DetectInFront(5+), DetectBack(5+)), H(s): 0.00, Ha(s): 0.00, Hw(s): 0.00\n",
      "State: (Position(447,216), Velocity(MEDIUM), Rotation(FORWARD), DetectInFront(5+), DetectBack(5+)), H(s): 0.00, Ha(s): 0.00, Hw(s): 0.00\n",
      "State: (Position(448,216), Velocity(MEDIUM), Rotation(FORWARD), DetectInFront(5+), DetectBack(5+)), H(s): 1.50, Ha(s): 1.00, Hw(s): 0.50\n",
      "State: (Position(450,216), Velocity(MEDIUM), Rotation(FORWARD), DetectInFront(5+), DetectBack(5+)), H(s): 0.00, Ha(s): 0.00, Hw(s): 0.00\n",
      "State: (Position(451,216), Velocity(MEDIUM), Rotation(FORWARD), DetectInFront(5+), DetectBack(5+)), H(s): 1.50, Ha(s): 1.00, Hw(s): 0.50\n",
      "State: (Position(453,216), Velocity(MEDIUM), Rotation(FORWARD), DetectInFront(5+), DetectBack(5+)), H(s): 0.00, Ha(s): 0.00, Hw(s): 0.00\n",
      "State: (Position(454,216), Velocity(MEDIUM), Rotation(FORWARD), DetectInFront(5+), DetectBack(5+)), H(s): 0.00, Ha(s): 0.00, Hw(s): 0.00\n",
      "State: (Position(455,216), Velocity(MEDIUM), Rotation(FORWARD), DetectInFront(5+), DetectBack(5+)), H(s): 0.00, Ha(s): 0.00, Hw(s): 0.00\n",
      "State: (Position(456,216), Velocity(MEDIUM), Rotation(FORWARD), DetectInFront(5+), DetectBack(5+)), H(s): 0.00, Ha(s): 0.00, Hw(s): 0.00\n",
      "State: (Position(457,216), Velocity(MEDIUM), Rotation(FORWARD), DetectInFront(5+), DetectBack(5+)), H(s): 0.00, Ha(s): 0.00, Hw(s): 0.00\n",
      "State: (Position(458,216), Velocity(MEDIUM), Rotation(FORWARD), DetectInFront(5+), DetectBack(5+)), H(s): 0.00, Ha(s): 0.00, Hw(s): 0.00\n",
      "State: (Position(459,216), Velocity(MEDIUM), Rotation(FORWARD), DetectInFront(5+), DetectBack(5+)), H(s): 0.00, Ha(s): 0.00, Hw(s): 0.00\n",
      "State: (Position(460,216), Velocity(MEDIUM), Rotation(FORWARD), DetectInFront(5+), DetectBack(5+)), H(s): 0.00, Ha(s): 0.00, Hw(s): 0.00\n",
      "State: (Position(461,216), Velocity(MEDIUM), Rotation(FORWARD), DetectInFront(5+), DetectBack(5+)), H(s): 0.00, Ha(s): 0.00, Hw(s): 0.00\n",
      "State: (Position(462,216), Velocity(MEDIUM), Rotation(FORWARD), DetectInFront(5+), DetectBack(5+)), H(s): 0.00, Ha(s): 0.00, Hw(s): 0.00\n",
      "State: (Position(463,216), Velocity(MEDIUM), Rotation(FORWARD), DetectInFront(5+), DetectBack(5+)), H(s): 0.00, Ha(s): 0.00, Hw(s): 0.00\n",
      "State: (Position(464,217), Velocity(MEDIUM), Rotation(FORWARD), DetectInFront(5+), DetectBack(5+)), H(s): 0.00, Ha(s): 0.00, Hw(s): 0.00\n",
      "State: (Position(465,217), Velocity(MEDIUM), Rotation(FORWARD), DetectInFront(5+), DetectBack(5+)), H(s): 0.00, Ha(s): 0.00, Hw(s): 0.00\n",
      "State: (Position(466,217), Velocity(MEDIUM), Rotation(FORWARD), DetectInFront(5+), DetectBack(5+)), H(s): 1.00, Ha(s): 0.00, Hw(s): 1.00\n",
      "State: (Position(467,217), Velocity(MEDIUM), Rotation(FORWARD), DetectInFront(5+), DetectBack(5+)), H(s): 0.00, Ha(s): 0.00, Hw(s): 0.00\n",
      "State: (Position(469,217), Velocity(MEDIUM), Rotation(FORWARD), DetectInFront(5+), DetectBack(5+)), H(s): 0.00, Ha(s): 0.00, Hw(s): 0.00\n",
      "State: (Position(470,217), Velocity(MEDIUM), Rotation(FORWARD), DetectInFront(5+), DetectBack(5+)), H(s): 0.00, Ha(s): 0.00, Hw(s): 0.00\n",
      "State: (Position(471,217), Velocity(MEDIUM), Rotation(FORWARD), DetectInFront(5+), DetectBack(5+)), H(s): 0.00, Ha(s): 0.00, Hw(s): 0.00\n",
      "State: (Position(472,217), Velocity(MEDIUM), Rotation(FORWARD), DetectInFront(5+), DetectBack(5+)), H(s): 0.00, Ha(s): 0.00, Hw(s): 0.00\n",
      "State: (Position(473,217), Velocity(MEDIUM), Rotation(FORWARD), DetectInFront(5+), DetectBack(5+)), H(s): 0.00, Ha(s): 0.00, Hw(s): 0.00\n",
      "State: (Position(475,217), Velocity(MEDIUM), Rotation(FORWARD), DetectInFront(5+), DetectBack(5+)), H(s): 0.00, Ha(s): 0.00, Hw(s): 0.00\n",
      "State: (Position(476,217), Velocity(MEDIUM), Rotation(FORWARD), DetectInFront(1-4), DetectBack(5+)), H(s): 0.00, Ha(s): 0.00, Hw(s): 0.00\n",
      "State: (Position(477,217), Velocity(MEDIUM), Rotation(FORWARD), DetectInFront(1-4), DetectBack(5+)), H(s): 0.00, Ha(s): 0.00, Hw(s): 0.00\n",
      "State: (Position(478,217), Velocity(MEDIUM), Rotation(FORWARD), DetectInFront(1-4), DetectBack(5+)), H(s): 0.00, Ha(s): 0.00, Hw(s): 0.00\n",
      "State: (Position(479,217), Velocity(MEDIUM), Rotation(FORWARD), DetectInFront(1-4), DetectBack(5+)), H(s): 0.00, Ha(s): 0.00, Hw(s): 0.00\n",
      "State: (Position(480,217), Velocity(MEDIUM), Rotation(FORWARD), DetectInFront(1-4), DetectBack(5+)), H(s): 0.00, Ha(s): 0.00, Hw(s): 0.00\n",
      "State: (Position(481,217), Velocity(MEDIUM), Rotation(FORWARD), DetectInFront(1-4), DetectBack(5+)), H(s): 0.00, Ha(s): 0.00, Hw(s): 0.00\n",
      "State: (Position(482,217), Velocity(MEDIUM), Rotation(FORWARD), DetectInFront(1-4), DetectBack(5+)), H(s): 0.00, Ha(s): 0.00, Hw(s): 0.00\n",
      "State: (Position(483,217), Velocity(MEDIUM), Rotation(FORWARD), DetectInFront(1-4), DetectBack(5+)), H(s): 0.00, Ha(s): 0.00, Hw(s): 0.00\n",
      "State: (Position(465,623), Velocity(HIGH), Rotation(FORWARD), DetectInFront(5+), DetectBack(5+)), H(s): 0.00, Ha(s): 0.00, Hw(s): 0.00\n",
      "State: (Position(464,625), Velocity(HIGH), Rotation(FORWARD), DetectInFront(5+), DetectBack(5+)), H(s): 0.00, Ha(s): 0.00, Hw(s): 0.00\n",
      "State: (Position(463,626), Velocity(HIGH), Rotation(FORWARD), DetectInFront(5+), DetectBack(5+)), H(s): 0.00, Ha(s): 0.00, Hw(s): 0.00\n",
      "State: (Position(462,627), Velocity(HIGH), Rotation(FORWARD), DetectInFront(1-4), DetectBack(5+)), H(s): 0.00, Ha(s): 0.00, Hw(s): 0.00\n",
      "State: (Position(461,628), Velocity(HIGH), Rotation(FORWARD), DetectInFront(1-4), DetectBack(5+)), H(s): 0.00, Ha(s): 0.00, Hw(s): 0.00\n",
      "State: (Position(460,629), Velocity(HIGH), Rotation(FORWARD), DetectInFront(5+), DetectBack(5+)), H(s): 0.00, Ha(s): 0.00, Hw(s): 0.00\n",
      "State: (Position(459,630), Velocity(HIGH), Rotation(FORWARD), DetectInFront(5+), DetectBack(5+)), H(s): 0.00, Ha(s): 0.00, Hw(s): 0.00\n",
      "State: (Position(458,632), Velocity(HIGH), Rotation(FORWARD), DetectInFront(5+), DetectBack(5+)), H(s): 0.00, Ha(s): 0.00, Hw(s): 0.00\n",
      "State: (Position(457,633), Velocity(HIGH), Rotation(FORWARD), DetectInFront(5+), DetectBack(5+)), H(s): 0.00, Ha(s): 0.00, Hw(s): 0.00\n",
      "State: (Position(456,634), Velocity(HIGH), Rotation(FORWARD), DetectInFront(5+), DetectBack(5+)), H(s): 0.00, Ha(s): 0.00, Hw(s): 0.00\n",
      "State: (Position(455,635), Velocity(HIGH), Rotation(FORWARD), DetectInFront(5+), DetectBack(5+)), H(s): 0.00, Ha(s): 0.00, Hw(s): 0.00\n",
      "State: (Position(454,636), Velocity(HIGH), Rotation(FORWARD), DetectInFront(5+), DetectBack(5+)), H(s): 0.00, Ha(s): 0.00, Hw(s): 0.00\n",
      "State: (Position(453,637), Velocity(HIGH), Rotation(FORWARD), DetectInFront(1-4), DetectBack(5+)), H(s): 0.00, Ha(s): 0.00, Hw(s): 0.00\n",
      "State: (Position(452,638), Velocity(HIGH), Rotation(FORWARD), DetectInFront(5+), DetectBack(5+)), H(s): 0.00, Ha(s): 0.00, Hw(s): 0.00\n",
      "State: (Position(451,640), Velocity(HIGH), Rotation(FORWARD), DetectInFront(5+), DetectBack(5+)), H(s): 0.00, Ha(s): 0.00, Hw(s): 0.00\n",
      "State: (Position(450,641), Velocity(HIGH), Rotation(FORWARD), DetectInFront(1-4), DetectBack(5+)), H(s): 0.00, Ha(s): 0.00, Hw(s): 0.00\n",
      "State: (Position(449,642), Velocity(HIGH), Rotation(FORWARD), DetectInFront(1-4), DetectBack(5+)), H(s): 0.00, Ha(s): 0.00, Hw(s): 0.00\n",
      "State: (Position(448,643), Velocity(HIGH), Rotation(FORWARD), DetectInFront(5+), DetectBack(5+)), H(s): 0.00, Ha(s): 0.00, Hw(s): 0.00\n",
      "State: (Position(447,644), Velocity(HIGH), Rotation(FORWARD), DetectInFront(1-4), DetectBack(5+)), H(s): 0.00, Ha(s): 0.00, Hw(s): 0.00\n",
      "State: (Position(446,645), Velocity(HIGH), Rotation(FORWARD), DetectInFront(1-4), DetectBack(5+)), H(s): 0.00, Ha(s): 0.00, Hw(s): 0.00\n",
      "State: (Position(445,647), Velocity(HIGH), Rotation(FORWARD), DetectInFront(1-4), DetectBack(5+)), H(s): 0.00, Ha(s): 0.00, Hw(s): 0.00\n",
      "State: (Position(444,648), Velocity(HIGH), Rotation(FORWARD), DetectInFront(1-4), DetectBack(5+)), H(s): 0.00, Ha(s): 0.00, Hw(s): 0.00\n",
      "State: (Position(444,649), Velocity(HIGH), Rotation(FORWARD), DetectInFront(1-4), DetectBack(5+)), H(s): 0.00, Ha(s): 0.00, Hw(s): 0.00\n",
      "State: (Position(443,650), Velocity(HIGH), Rotation(FORWARD), DetectInFront(1-4), DetectBack(1-4)), H(s): 0.00, Ha(s): 0.00, Hw(s): 0.00\n",
      "State: (Position(442,651), Velocity(HIGH), Rotation(FORWARD), DetectInFront(1-4), DetectBack(1-4)), H(s): 0.00, Ha(s): 0.00, Hw(s): 0.00\n",
      "State: (Position(441,652), Velocity(HIGH), Rotation(FORWARD), DetectInFront(1-4), DetectBack(5+)), H(s): 0.00, Ha(s): 0.00, Hw(s): 0.00\n",
      "State: (Position(440,653), Velocity(HIGH), Rotation(FORWARD), DetectInFront(1-4), DetectBack(5+)), H(s): 0.00, Ha(s): 0.00, Hw(s): 0.00\n",
      "State: (Position(439,654), Velocity(HIGH), Rotation(FORWARD), DetectInFront(1-4), DetectBack(5+)), H(s): 0.00, Ha(s): 0.00, Hw(s): 0.00\n",
      "State: (Position(438,656), Velocity(HIGH), Rotation(FORWARD), DetectInFront(1-4), DetectBack(5+)), H(s): 0.00, Ha(s): 0.00, Hw(s): 0.00\n",
      "State: (Position(437,657), Velocity(HIGH), Rotation(FORWARD), DetectInFront(1-4), DetectBack(5+)), H(s): 0.00, Ha(s): 0.00, Hw(s): 0.00\n",
      "State: (Position(436,658), Velocity(HIGH), Rotation(FORWARD), DetectInFront(1-4), DetectBack(1-4)), H(s): 0.00, Ha(s): 0.00, Hw(s): 0.00\n",
      "State: (Position(435,659), Velocity(HIGH), Rotation(FORWARD), DetectInFront(1-4), DetectBack(1-4)), H(s): 0.00, Ha(s): 0.00, Hw(s): 0.00\n",
      "State: (Position(434,660), Velocity(HIGH), Rotation(FORWARD), DetectInFront(1-4), DetectBack(5+)), H(s): 0.00, Ha(s): 0.00, Hw(s): 0.00\n",
      "State: (Position(433,662), Velocity(HIGH), Rotation(FORWARD), DetectInFront(1-4), DetectBack(1-4)), H(s): 0.00, Ha(s): 0.00, Hw(s): 0.00\n",
      "State: (Position(432,663), Velocity(HIGH), Rotation(FORWARD), DetectInFront(1-4), DetectBack(5+)), H(s): 0.00, Ha(s): 0.00, Hw(s): 0.00\n",
      "State: (Position(431,664), Velocity(HIGH), Rotation(FORWARD), DetectInFront(1-4), DetectBack(1-4)), H(s): 0.00, Ha(s): 0.00, Hw(s): 0.00\n",
      "State: (Position(430,665), Velocity(HIGH), Rotation(FORWARD), DetectInFront(1-4), DetectBack(1-4)), H(s): 0.00, Ha(s): 0.00, Hw(s): 0.00\n",
      "State: (Position(430,666), Velocity(HIGH), Rotation(FORWARD), DetectInFront(1-4), DetectBack(1-4)), H(s): 0.00, Ha(s): 0.00, Hw(s): 0.00\n",
      "State: (Position(102,293), Velocity(MEDIUM), Rotation(FORWARD), DetectInFront(5+), DetectBack(5+)), H(s): 0.00, Ha(s): 0.00, Hw(s): 0.00\n",
      "State: (Position(101,292), Velocity(MEDIUM), Rotation(FORWARD), DetectInFront(5+), DetectBack(5+)), H(s): 0.00, Ha(s): 0.00, Hw(s): 0.00\n",
      "State: (Position(101,291), Velocity(MEDIUM), Rotation(FORWARD), DetectInFront(5+), DetectBack(5+)), H(s): 0.00, Ha(s): 0.00, Hw(s): 0.00\n",
      "State: (Position(101,290), Velocity(MEDIUM), Rotation(FORWARD), DetectInFront(5+), DetectBack(5+)), H(s): 0.00, Ha(s): 0.00, Hw(s): 0.00\n",
      "State: (Position(100,289), Velocity(MEDIUM), Rotation(FORWARD), DetectInFront(5+), DetectBack(5+)), H(s): 0.00, Ha(s): 0.00, Hw(s): 0.00\n",
      "State: (Position(100,288), Velocity(MEDIUM), Rotation(FORWARD), DetectInFront(5+), DetectBack(5+)), H(s): 0.00, Ha(s): 0.00, Hw(s): 0.00\n",
      "State: (Position(100,287), Velocity(MEDIUM), Rotation(FORWARD), DetectInFront(5+), DetectBack(5+)), H(s): 0.00, Ha(s): 0.00, Hw(s): 0.00\n",
      "State: (Position(99,286), Velocity(MEDIUM), Rotation(FORWARD), DetectInFront(5+), DetectBack(5+)), H(s): 1.00, Ha(s): 0.00, Hw(s): 1.00\n",
      "State: (Position(99,285), Velocity(MEDIUM), Rotation(SLIGHT_LEFT), DetectInFront(5+), DetectBack(5+)), H(s): 0.00, Ha(s): 0.00, Hw(s): 0.00\n",
      "State: (Position(99,284), Velocity(LOW), Rotation(SLIGHT_LEFT), DetectInFront(5+), DetectBack(5+)), H(s): 0.00, Ha(s): 0.00, Hw(s): 0.00\n",
      "State: (Position(99,283), Velocity(LOW), Rotation(SLIGHT_LEFT), DetectInFront(5+), DetectBack(5+)), H(s): 1.00, Ha(s): 0.00, Hw(s): 1.00\n",
      "State: (Position(99,282), Velocity(LOW), Rotation(SLIGHT_LEFT), DetectInFront(5+), DetectBack(5+)), H(s): 0.00, Ha(s): 0.00, Hw(s): 0.00\n",
      "State: (Position(99,281), Velocity(LOW), Rotation(SLIGHT_LEFT), DetectInFront(5+), DetectBack(5+)), H(s): 1.00, Ha(s): 0.00, Hw(s): 1.00\n",
      "State: (Position(99,280), Velocity(LOW), Rotation(SLIGHT_LEFT), DetectInFront(5+), DetectBack(5+)), H(s): 1.50, Ha(s): 1.00, Hw(s): 0.50\n",
      "State: (Position(99,279), Velocity(LOW), Rotation(SLIGHT_LEFT), DetectInFront(1-4), DetectBack(5+)), H(s): 0.00, Ha(s): 0.00, Hw(s): 0.00\n",
      "State: (Position(100,278), Velocity(LOW), Rotation(SLIGHT_LEFT), DetectInFront(1-4), DetectBack(5+)), H(s): 1.00, Ha(s): 0.00, Hw(s): 1.00\n",
      "State: (Position(101,278), Velocity(LOW), Rotation(SLIGHT_LEFT), DetectInFront(1-4), DetectBack(5+)), H(s): 0.00, Ha(s): 0.00, Hw(s): 0.00\n",
      "State: (Position(101,277), Velocity(LOW), Rotation(SLIGHT_LEFT), DetectInFront(1-4), DetectBack(5+)), H(s): 1.00, Ha(s): 0.00, Hw(s): 1.00\n",
      "State: (Position(102,277), Velocity(LOW), Rotation(SLIGHT_LEFT), DetectInFront(1-4), DetectBack(5+)), H(s): 1.35, Ha(s): 0.92, Hw(s): 0.44\n",
      "State: (Position(102,277), Velocity(LOW), Rotation(FORWARD), DetectInFront(1-4), DetectBack(5+)), H(s): 0.00, Ha(s): 0.00, Hw(s): 0.00\n",
      "State: (Position(103,276), Velocity(LOW), Rotation(FORWARD), DetectInFront(1-4), DetectBack(5+)), H(s): 0.92, Ha(s): 0.00, Hw(s): 0.92\n",
      "State: (Position(103,276), Velocity(LOW), Rotation(SLIGHT_LEFT), DetectInFront(1-4), DetectBack(5+)), H(s): 0.00, Ha(s): 0.00, Hw(s): 0.00\n",
      "State: (Position(104,276), Velocity(LOW), Rotation(SLIGHT_LEFT), DetectInFront(1-4), DetectBack(5+)), H(s): 2.11, Ha(s): 1.58, Hw(s): 0.53\n",
      "State: (Position(105,276), Velocity(LOW), Rotation(LEFT), DetectInFront(1-4), DetectBack(5+)), H(s): 0.00, Ha(s): 0.00, Hw(s): 0.00\n",
      "State: (Position(152,501), Velocity(MEDIUM), Rotation(SLIGHT_LEFT), DetectInFront(5+), DetectBack(5+)), H(s): 0.00, Ha(s): 0.00, Hw(s): 0.00\n",
      "State: (Position(153,500), Velocity(MEDIUM), Rotation(SLIGHT_LEFT), DetectInFront(5+), DetectBack(5+)), H(s): 0.00, Ha(s): 0.00, Hw(s): 0.00\n",
      "State: (Position(153,499), Velocity(MEDIUM), Rotation(SLIGHT_LEFT), DetectInFront(5+), DetectBack(5+)), H(s): 0.00, Ha(s): 0.00, Hw(s): 0.00\n",
      "State: (Position(154,498), Velocity(MEDIUM), Rotation(FORWARD), DetectInFront(5+), DetectBack(5+)), H(s): 0.00, Ha(s): 0.00, Hw(s): 0.00\n",
      "State: (Position(155,498), Velocity(MEDIUM), Rotation(FORWARD), DetectInFront(5+), DetectBack(5+)), H(s): 0.00, Ha(s): 0.00, Hw(s): 0.00\n",
      "State: (Position(156,497), Velocity(MEDIUM), Rotation(FORWARD), DetectInFront(5+), DetectBack(5+)), H(s): 0.00, Ha(s): 0.00, Hw(s): 0.00\n",
      "State: (Position(157,496), Velocity(MEDIUM), Rotation(FORWARD), DetectInFront(5+), DetectBack(5+)), H(s): 0.00, Ha(s): 0.00, Hw(s): 0.00\n",
      "State: (Position(158,495), Velocity(HIGH), Rotation(FORWARD), DetectInFront(5+), DetectBack(5+)), H(s): 0.00, Ha(s): 0.00, Hw(s): 0.00\n",
      "State: (Position(159,494), Velocity(HIGH), Rotation(FORWARD), DetectInFront(5+), DetectBack(5+)), H(s): 0.00, Ha(s): 0.00, Hw(s): 0.00\n",
      "State: (Position(160,493), Velocity(HIGH), Rotation(FORWARD), DetectInFront(5+), DetectBack(5+)), H(s): 0.00, Ha(s): 0.00, Hw(s): 0.00\n",
      "State: (Position(161,492), Velocity(HIGH), Rotation(FORWARD), DetectInFront(5+), DetectBack(5+)), H(s): 0.00, Ha(s): 0.00, Hw(s): 0.00\n",
      "State: (Position(162,491), Velocity(HIGH), Rotation(FORWARD), DetectInFront(5+), DetectBack(1-4)), H(s): 0.00, Ha(s): 0.00, Hw(s): 0.00\n",
      "State: (Position(163,490), Velocity(HIGH), Rotation(FORWARD), DetectInFront(5+), DetectBack(5+)), H(s): 0.00, Ha(s): 0.00, Hw(s): 0.00\n",
      "State: (Position(164,489), Velocity(HIGH), Rotation(FORWARD), DetectInFront(5+), DetectBack(1-4)), H(s): 0.00, Ha(s): 0.00, Hw(s): 0.00\n",
      "State: (Position(166,488), Velocity(HIGH), Rotation(FORWARD), DetectInFront(5+), DetectBack(5+)), H(s): 0.00, Ha(s): 0.00, Hw(s): 0.00\n",
      "State: (Position(167,487), Velocity(HIGH), Rotation(FORWARD), DetectInFront(5+), DetectBack(5+)), H(s): 0.00, Ha(s): 0.00, Hw(s): 0.00\n",
      "State: (Position(168,486), Velocity(HIGH), Rotation(FORWARD), DetectInFront(5+), DetectBack(5+)), H(s): 0.00, Ha(s): 0.00, Hw(s): 0.00\n",
      "State: (Position(169,484), Velocity(HIGH), Rotation(FORWARD), DetectInFront(5+), DetectBack(5+)), H(s): 0.00, Ha(s): 0.00, Hw(s): 0.00\n",
      "State: (Position(170,483), Velocity(HIGH), Rotation(FORWARD), DetectInFront(5+), DetectBack(5+)), H(s): 0.00, Ha(s): 0.00, Hw(s): 0.00\n",
      "State: (Position(171,482), Velocity(HIGH), Rotation(FORWARD), DetectInFront(5+), DetectBack(5+)), H(s): 0.00, Ha(s): 0.00, Hw(s): 0.00\n",
      "State: (Position(173,481), Velocity(HIGH), Rotation(FORWARD), DetectInFront(5+), DetectBack(5+)), H(s): 0.00, Ha(s): 0.00, Hw(s): 0.00\n",
      "State: (Position(174,480), Velocity(HIGH), Rotation(FORWARD), DetectInFront(5+), DetectBack(5+)), H(s): 0.00, Ha(s): 0.00, Hw(s): 0.00\n",
      "State: (Position(175,479), Velocity(HIGH), Rotation(FORWARD), DetectInFront(5+), DetectBack(5+)), H(s): 0.00, Ha(s): 0.00, Hw(s): 0.00\n",
      "State: (Position(176,478), Velocity(HIGH), Rotation(FORWARD), DetectInFront(5+), DetectBack(5+)), H(s): 0.00, Ha(s): 0.00, Hw(s): 0.00\n",
      "State: (Position(178,476), Velocity(HIGH), Rotation(FORWARD), DetectInFront(5+), DetectBack(5+)), H(s): 0.00, Ha(s): 0.00, Hw(s): 0.00\n",
      "State: (Position(179,475), Velocity(HIGH), Rotation(FORWARD), DetectInFront(5+), DetectBack(5+)), H(s): 0.00, Ha(s): 0.00, Hw(s): 0.00\n",
      "State: (Position(180,474), Velocity(HIGH), Rotation(FORWARD), DetectInFront(5+), DetectBack(5+)), H(s): 0.00, Ha(s): 0.00, Hw(s): 0.00\n",
      "State: (Position(182,473), Velocity(HIGH), Rotation(FORWARD), DetectInFront(5+), DetectBack(5+)), H(s): 0.00, Ha(s): 0.00, Hw(s): 0.00\n",
      "State: (Position(183,472), Velocity(HIGH), Rotation(FORWARD), DetectInFront(5+), DetectBack(5+)), H(s): 0.00, Ha(s): 0.00, Hw(s): 0.00\n",
      "State: (Position(185,470), Velocity(HIGH), Rotation(FORWARD), DetectInFront(5+), DetectBack(5+)), H(s): 0.00, Ha(s): 0.00, Hw(s): 0.00\n",
      "State: (Position(186,469), Velocity(HIGH), Rotation(FORWARD), DetectInFront(5+), DetectBack(5+)), H(s): 0.00, Ha(s): 0.00, Hw(s): 0.00\n",
      "State: (Position(188,468), Velocity(HIGH), Rotation(FORWARD), DetectInFront(5+), DetectBack(5+)), H(s): 0.00, Ha(s): 0.00, Hw(s): 0.00\n",
      "State: (Position(189,467), Velocity(HIGH), Rotation(FORWARD), DetectInFront(1-4), DetectBack(5+)), H(s): 0.00, Ha(s): 0.00, Hw(s): 0.00\n",
      "State: (Position(191,466), Velocity(HIGH), Rotation(FORWARD), DetectInFront(5+), DetectBack(5+)), H(s): 0.00, Ha(s): 0.00, Hw(s): 0.00\n",
      "State: (Position(192,464), Velocity(HIGH), Rotation(FORWARD), DetectInFront(1-4), DetectBack(5+)), H(s): 0.00, Ha(s): 0.00, Hw(s): 0.00\n",
      "State: (Position(193,463), Velocity(HIGH), Rotation(FORWARD), DetectInFront(5+), DetectBack(5+)), H(s): 0.00, Ha(s): 0.00, Hw(s): 0.00\n",
      "State: (Position(195,462), Velocity(HIGH), Rotation(FORWARD), DetectInFront(5+), DetectBack(5+)), H(s): 0.00, Ha(s): 0.00, Hw(s): 0.00\n",
      "State: (Position(196,461), Velocity(HIGH), Rotation(FORWARD), DetectInFront(5+), DetectBack(5+)), H(s): 0.00, Ha(s): 0.00, Hw(s): 0.00\n",
      "State: (Position(198,460), Velocity(HIGH), Rotation(FORWARD), DetectInFront(1-4), DetectBack(5+)), H(s): 0.00, Ha(s): 0.00, Hw(s): 0.00\n",
      "State: (Position(381,303), Velocity(STOPPED), Rotation(FORWARD), DetectInFront(5+), DetectBack(1-4)), H(s): 0.00, Ha(s): 0.00, Hw(s): 0.00\n",
      "State: (Position(381,303), Velocity(LOW), Rotation(FORWARD), DetectInFront(5+), DetectBack(1-4)), H(s): 0.92, Ha(s): 0.00, Hw(s): 0.92\n",
      "State: (Position(380,303), Velocity(LOW), Rotation(FORWARD), DetectInFront(5+), DetectBack(1-4)), H(s): 1.80, Ha(s): 0.92, Hw(s): 0.88\n",
      "State: (Position(379,303), Velocity(LOW), Rotation(SLIGHT_LEFT), DetectInFront(5+), DetectBack(1-4)), H(s): 1.00, Ha(s): 0.00, Hw(s): 1.00\n",
      "State: (Position(379,303), Velocity(LOW), Rotation(LEFT), DetectInFront(5+), DetectBack(1-4)), H(s): 0.00, Ha(s): 0.00, Hw(s): 0.00\n",
      "State: (Position(379,303), Velocity(LOW), Rotation(LEFT), DetectInFront(5+), DetectBack(5+)), H(s): 0.00, Ha(s): 0.00, Hw(s): 0.00\n",
      "State: (Position(378,303), Velocity(LOW), Rotation(LEFT), DetectInFront(5+), DetectBack(5+)), H(s): 1.00, Ha(s): 0.00, Hw(s): 1.00\n",
      "State: (Position(377,303), Velocity(LOW), Rotation(LEFT), DetectInFront(5+), DetectBack(5+)), H(s): 0.00, Ha(s): 0.00, Hw(s): 0.00\n",
      "State: (Position(377,302), Velocity(LOW), Rotation(SLIGHT_LEFT), DetectInFront(5+), DetectBack(5+)), H(s): 1.00, Ha(s): 0.00, Hw(s): 1.00\n",
      "State: (Position(376,301), Velocity(LOW), Rotation(FORWARD), DetectInFront(5+), DetectBack(5+)), H(s): 0.00, Ha(s): 0.00, Hw(s): 0.00\n",
      "State: (Position(376,300), Velocity(MEDIUM), Rotation(SLIGHT_LEFT), DetectInFront(5+), DetectBack(5+)), H(s): 0.00, Ha(s): 0.00, Hw(s): 0.00\n",
      "State: (Position(376,300), Velocity(MEDIUM), Rotation(FORWARD), DetectInFront(5+), DetectBack(5+)), H(s): 0.00, Ha(s): 0.00, Hw(s): 0.00\n",
      "State: (Position(375,299), Velocity(MEDIUM), Rotation(FORWARD), DetectInFront(5+), DetectBack(5+)), H(s): 0.00, Ha(s): 0.00, Hw(s): 0.00\n",
      "State: (Position(375,298), Velocity(MEDIUM), Rotation(FORWARD), DetectInFront(5+), DetectBack(5+)), H(s): 0.00, Ha(s): 0.00, Hw(s): 0.00\n",
      "State: (Position(374,297), Velocity(MEDIUM), Rotation(FORWARD), DetectInFront(5+), DetectBack(5+)), H(s): 0.00, Ha(s): 0.00, Hw(s): 0.00\n",
      "State: (Position(374,296), Velocity(MEDIUM), Rotation(FORWARD), DetectInFront(5+), DetectBack(5+)), H(s): 0.00, Ha(s): 0.00, Hw(s): 0.00\n",
      "State: (Position(374,295), Velocity(MEDIUM), Rotation(FORWARD), DetectInFront(5+), DetectBack(5+)), H(s): 0.00, Ha(s): 0.00, Hw(s): 0.00\n",
      "State: (Position(373,294), Velocity(MEDIUM), Rotation(FORWARD), DetectInFront(5+), DetectBack(5+)), H(s): 0.00, Ha(s): 0.00, Hw(s): 0.00\n",
      "State: (Position(373,293), Velocity(MEDIUM), Rotation(FORWARD), DetectInFront(5+), DetectBack(5+)), H(s): 0.00, Ha(s): 0.00, Hw(s): 0.00\n",
      "State: (Position(372,292), Velocity(MEDIUM), Rotation(FORWARD), DetectInFront(5+), DetectBack(5+)), H(s): 0.00, Ha(s): 0.00, Hw(s): 0.00\n",
      "State: (Position(372,291), Velocity(MEDIUM), Rotation(FORWARD), DetectInFront(5+), DetectBack(5+)), H(s): 0.00, Ha(s): 0.00, Hw(s): 0.00\n",
      "State: (Position(371,290), Velocity(MEDIUM), Rotation(FORWARD), DetectInFront(1-4), DetectBack(5+)), H(s): 0.00, Ha(s): 0.00, Hw(s): 0.00\n",
      "State: (Position(370,289), Velocity(MEDIUM), Rotation(FORWARD), DetectInFront(1-4), DetectBack(5+)), H(s): 0.00, Ha(s): 0.00, Hw(s): 0.00\n",
      "State: (Position(370,287), Velocity(MEDIUM), Rotation(FORWARD), DetectInFront(1-4), DetectBack(5+)), H(s): 0.00, Ha(s): 0.00, Hw(s): 0.00\n",
      "State: (Position(369,286), Velocity(HIGH), Rotation(FORWARD), DetectInFront(1-4), DetectBack(5+)), H(s): 0.00, Ha(s): 0.00, Hw(s): 0.00\n",
      "State: (Position(369,285), Velocity(HIGH), Rotation(FORWARD), DetectInFront(1-4), DetectBack(5+)), H(s): 0.00, Ha(s): 0.00, Hw(s): 0.00\n",
      "State: (Position(368,283), Velocity(HIGH), Rotation(FORWARD), DetectInFront(1-4), DetectBack(5+)), H(s): 0.00, Ha(s): 0.00, Hw(s): 0.00\n",
      "State: (Position(367,282), Velocity(HIGH), Rotation(FORWARD), DetectInFront(1-4), DetectBack(5+)), H(s): 0.00, Ha(s): 0.00, Hw(s): 0.00\n",
      "State: (Position(367,281), Velocity(HIGH), Rotation(FORWARD), DetectInFront(5+), DetectBack(5+)), H(s): 0.00, Ha(s): 0.00, Hw(s): 0.00\n",
      "State: (Position(366,279), Velocity(HIGH), Rotation(FORWARD), DetectInFront(5+), DetectBack(5+)), H(s): 0.00, Ha(s): 0.00, Hw(s): 0.00\n",
      "State: (Position(365,278), Velocity(HIGH), Rotation(FORWARD), DetectInFront(1-4), DetectBack(5+)), H(s): 0.00, Ha(s): 0.00, Hw(s): 0.00\n",
      "State: (Position(330,225), Velocity(STOPPED), Rotation(RIGHT), DetectInFront(5+), DetectBack(5+)), H(s): 1.13, Ha(s): 0.32, Hw(s): 0.81\n",
      "State: (Position(330,225), Velocity(STOPPED), Rotation(RIGHT), DetectInFront(1-4), DetectBack(5+)), H(s): 1.01, Ha(s): 0.00, Hw(s): 1.01\n",
      "State: (Position(330,225), Velocity(LOW), Rotation(RIGHT), DetectInFront(1-4), DetectBack(5+)), H(s): 2.25, Ha(s): 1.50, Hw(s): 0.75\n",
      "State: (Position(151,410), Velocity(MEDIUM), Rotation(SLIGHT_RIGHT), DetectInFront(5+), DetectBack(1-4)), H(s): 0.00, Ha(s): 0.00, Hw(s): 0.00\n",
      "State: (Position(152,410), Velocity(MEDIUM), Rotation(SLIGHT_RIGHT), DetectInFront(5+), DetectBack(1-4)), H(s): 0.00, Ha(s): 0.00, Hw(s): 0.00\n",
      "State: (Position(153,409), Velocity(MEDIUM), Rotation(FORWARD), DetectInFront(5+), DetectBack(1-4)), H(s): 0.00, Ha(s): 0.00, Hw(s): 0.00\n",
      "State: (Position(154,409), Velocity(MEDIUM), Rotation(SLIGHT_RIGHT), DetectInFront(5+), DetectBack(1-4)), H(s): 0.00, Ha(s): 0.00, Hw(s): 0.00\n",
      "State: (Position(155,408), Velocity(MEDIUM), Rotation(FORWARD), DetectInFront(5+), DetectBack(5+)), H(s): 0.00, Ha(s): 0.00, Hw(s): 0.00\n",
      "State: (Position(156,407), Velocity(MEDIUM), Rotation(FORWARD), DetectInFront(5+), DetectBack(5+)), H(s): 0.00, Ha(s): 0.00, Hw(s): 0.00\n",
      "State: (Position(157,406), Velocity(MEDIUM), Rotation(FORWARD), DetectInFront(5+), DetectBack(5+)), H(s): 1.50, Ha(s): 1.00, Hw(s): 0.50\n",
      "State: (Position(158,405), Velocity(MEDIUM), Rotation(FORWARD), DetectInFront(5+), DetectBack(5+)), H(s): 0.00, Ha(s): 0.00, Hw(s): 0.00\n",
      "State: (Position(159,404), Velocity(MEDIUM), Rotation(FORWARD), DetectInFront(5+), DetectBack(5+)), H(s): 0.00, Ha(s): 0.00, Hw(s): 0.00\n",
      "State: (Position(160,404), Velocity(MEDIUM), Rotation(FORWARD), DetectInFront(5+), DetectBack(5+)), H(s): 0.00, Ha(s): 0.00, Hw(s): 0.00\n",
      "State: (Position(160,404), Velocity(LOW), Rotation(FORWARD), DetectInFront(5+), DetectBack(5+)), H(s): 0.00, Ha(s): 0.00, Hw(s): 0.00\n",
      "State: (Position(160,403), Velocity(LOW), Rotation(FORWARD), DetectInFront(5+), DetectBack(5+)), H(s): 0.00, Ha(s): 0.00, Hw(s): 0.00\n",
      "State: (Position(161,403), Velocity(LOW), Rotation(FORWARD), DetectInFront(5+), DetectBack(5+)), H(s): 2.00, Ha(s): 1.50, Hw(s): 0.50\n",
      "State: (Position(161,402), Velocity(LOW), Rotation(FORWARD), DetectInFront(5+), DetectBack(5+)), H(s): 0.00, Ha(s): 0.00, Hw(s): 0.00\n",
      "State: (Position(162,402), Velocity(LOW), Rotation(FORWARD), DetectInFront(5+), DetectBack(5+)), H(s): 0.81, Ha(s): 0.00, Hw(s): 0.81\n",
      "State: (Position(163,401), Velocity(LOW), Rotation(FORWARD), DetectInFront(5+), DetectBack(5+)), H(s): 1.00, Ha(s): 0.00, Hw(s): 1.00\n",
      "State: (Position(164,401), Velocity(LOW), Rotation(FORWARD), DetectInFront(5+), DetectBack(5+)), H(s): 0.00, Ha(s): 0.00, Hw(s): 0.00\n",
      "State: (Position(164,400), Velocity(LOW), Rotation(FORWARD), DetectInFront(5+), DetectBack(5+)), H(s): 0.00, Ha(s): 0.00, Hw(s): 0.00\n",
      "State: (Position(165,400), Velocity(LOW), Rotation(FORWARD), DetectInFront(5+), DetectBack(5+)), H(s): 0.00, Ha(s): 0.00, Hw(s): 0.00\n",
      "State: (Position(165,399), Velocity(LOW), Rotation(FORWARD), DetectInFront(5+), DetectBack(5+)), H(s): 0.00, Ha(s): 0.00, Hw(s): 0.00\n",
      "State: (Position(166,399), Velocity(MEDIUM), Rotation(FORWARD), DetectInFront(5+), DetectBack(5+)), H(s): 0.00, Ha(s): 0.00, Hw(s): 0.00\n",
      "State: (Position(166,398), Velocity(MEDIUM), Rotation(FORWARD), DetectInFront(5+), DetectBack(5+)), H(s): 0.00, Ha(s): 0.00, Hw(s): 0.00\n",
      "State: (Position(167,397), Velocity(MEDIUM), Rotation(FORWARD), DetectInFront(5+), DetectBack(5+)), H(s): 0.00, Ha(s): 0.00, Hw(s): 0.00\n",
      "State: (Position(168,397), Velocity(MEDIUM), Rotation(FORWARD), DetectInFront(5+), DetectBack(5+)), H(s): 0.00, Ha(s): 0.00, Hw(s): 0.00\n",
      "State: (Position(169,396), Velocity(MEDIUM), Rotation(FORWARD), DetectInFront(5+), DetectBack(5+)), H(s): 0.00, Ha(s): 0.00, Hw(s): 0.00\n",
      "State: (Position(169,395), Velocity(MEDIUM), Rotation(FORWARD), DetectInFront(5+), DetectBack(5+)), H(s): 0.00, Ha(s): 0.00, Hw(s): 0.00\n",
      "State: (Position(170,395), Velocity(MEDIUM), Rotation(FORWARD), DetectInFront(5+), DetectBack(5+)), H(s): 0.00, Ha(s): 0.00, Hw(s): 0.00\n",
      "State: (Position(171,394), Velocity(MEDIUM), Rotation(FORWARD), DetectInFront(5+), DetectBack(5+)), H(s): 0.00, Ha(s): 0.00, Hw(s): 0.00\n",
      "State: (Position(172,393), Velocity(MEDIUM), Rotation(FORWARD), DetectInFront(5+), DetectBack(5+)), H(s): 0.00, Ha(s): 0.00, Hw(s): 0.00\n"
     ]
    }
   ],
   "source": [
    "from example.evaluator import PolicyGraphEvaluator\n",
    "evaluator = PolicyGraphEvaluator(pg)\n",
    "entropy_metrics_graph = evaluator.compute_entropy_metrics()\n",
    "\n",
    "for state, metrics in entropy_metrics_graph.items():\n",
    "    print(f\"State: {state}, H(s): {metrics['Hs']:.2f}, Ha(s): {metrics['Ha']:.2f}, Hw(s): {metrics['Hw']:.2f}\")"
   ]
  },
  {
   "cell_type": "markdown",
   "metadata": {},
   "source": [
    "Ideal situation: knowing the current state unqeuivocally determines the following action and state. To evaluate this we use Entropy.\n",
    "\n",
    "Entropy Interpretation: level of uncertainty of a variable (check PG_position_paper).\n",
    "\n",
    "- H_a(s): 0 --> state s perfectly determines the following action a.\n",
    "Too simple graphs with few nodes show larger action uncertainty, making output less reliable.\n",
    "\n",
    "- H_w(s): 0 --> state s perfectly determines the following state s'.\n",
    "\n",
    "- H(s): 0 --> state s perfectly determines the following pais of s', a."
   ]
  },
  {
   "cell_type": "markdown",
   "metadata": {},
   "source": [
    "## Improve Policy"
   ]
  },
  {
   "cell_type": "code",
   "execution_count": 23,
   "metadata": {},
   "outputs": [],
   "source": [
    "#path_pg_data = Path('/home/saramontese/Desktop/MasterThesis')\n",
    "\n",
    "#sub_pg = PG.PolicyGraph.from_nodes_and_edges(str(path_pg_data / 'nuscenes_nodes.csv'), str(path_pg_data / 'nuscenes_edges.csv'), env, av_discretizer  )"
   ]
  },
  {
   "cell_type": "code",
   "execution_count": 24,
   "metadata": {},
   "outputs": [],
   "source": [
    "#initial_state = example_scene_df.iloc[0][['x', \"y\", \"velocity\", \"yaw\"]].values\n",
    "#final_state = example_scene_df.iloc[-1][['x', \"y\", \"velocity\", \"yaw\"]].values\n",
    "#print('initial scene state: ', initial_state)\n",
    "#print('final scene state: ', final_state)"
   ]
  },
  {
   "cell_type": "code",
   "execution_count": 25,
   "metadata": {},
   "outputs": [],
   "source": [
    "#sub_agent = PGBasedPolicy(sub_pg, mode=PGBasedPolicyMode.GREEDY)\n",
    "#reward = env.compute_total_reward(sub_agent, initial_state, final_state, max_steps=100)\n",
    "#print('scene reward before improvement: ', reward)"
   ]
  },
  {
   "cell_type": "code",
   "execution_count": 26,
   "metadata": {},
   "outputs": [],
   "source": [
    "#reward = env.compute_total_reward(pg)\n",
    "#print('Total PG reward before improvement: ', reward)"
   ]
  },
  {
   "cell_type": "code",
   "execution_count": 27,
   "metadata": {},
   "outputs": [],
   "source": [
    "#pg.policy_iteration(sub_pg)\n",
    "#print('scene reward after improvement: ', env.compute_total_reward(pg))\n"
   ]
  },
  {
   "cell_type": "markdown",
   "metadata": {},
   "source": [
    "## Compute Rewards"
   ]
  },
  {
   "cell_type": "markdown",
   "metadata": {},
   "source": [
    "1. I consider the total pg.\n",
    "2. I consider each scene as episode, with a initial state and end state\n",
    "3. For each scene, i compute the reward of the PG.\n",
    "4. I compute the avg scene reward.\n",
    "\n",
    "I do this for all the possible pgBased policies.\n",
    "\n",
    "in which format the scenes?\n",
    "can i create a function that creates a pg from a dataframe without having to store it the dataframe as csv and then load it?"
   ]
  },
  {
   "cell_type": "code",
   "execution_count": 28,
   "metadata": {},
   "outputs": [],
   "source": [
    "#for each scenes:\n",
    "    #initial_state = example_scene_df.iloc[0][['x', \"y\", \"velocity\", \"yaw\"]].values\n",
    "    #final_state = example_scene_df.iloc[-1][['x', \"y\", \"velocity\", \"yaw\"]].values\n",
    "    #print('initial scene state: ', initial_state)\n",
    "    #print('final scene state: ', final_state)"
   ]
  }
 ],
 "metadata": {
  "kernelspec": {
   "display_name": "nuscenes",
   "language": "python",
   "name": "python3"
  },
  "language_info": {
   "codemirror_mode": {
    "name": "ipython",
    "version": 3
   },
   "file_extension": ".py",
   "mimetype": "text/x-python",
   "name": "python",
   "nbconvert_exporter": "python",
   "pygments_lexer": "ipython3",
   "version": "3.8.10"
  }
 },
 "nbformat": 4,
 "nbformat_minor": 2
}
