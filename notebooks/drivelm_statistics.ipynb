{
 "cells": [
  {
   "cell_type": "code",
   "execution_count": 1,
   "metadata": {},
   "outputs": [],
   "source": [
    "import pandas as pd\n",
    "import matplotlib.pyplot as plt\n",
    "from pathlib import Path\n",
    "import seaborn as sns\n",
    "from matplotlib.patches import Patch"
   ]
  },
  {
   "cell_type": "code",
   "execution_count": 2,
   "metadata": {},
   "outputs": [],
   "source": [
    "#path where you stored your copy of the nuScenes dataset.\n",
    "DATAROOT = Path('/home/saramontese/Desktop/MasterThesis/example/dataset/data/sets/nuscenes')\n",
    "dataset_file = 'train_v1.0-trainval_lidar_0.csv'"
   ]
  },
  {
   "cell_type": "markdown",
   "metadata": {},
   "source": [
    "# Data Analysis\n"
   ]
  },
  {
   "cell_type": "markdown",
   "metadata": {},
   "source": [
    "The dataset contains the following columns for each state of the self-driving car:\n",
    "\n",
    "- instance_token: A unique identifier for the vehicle instance.\n",
    "- translation: The vehicle's position in 3D space (x, y, z coordinates).\n",
    "- yaw: The orientation of the vehicle around the vertical axis (rotation angle).\n",
    "- velocity: The vehicle's speed in a given direction.\n",
    "- acceleration: The change in velocity over time.\n",
    "- heading_change_rate: The rate of change of the vehicle's direction.\n",
    "- timestamp: The time at which the state was recorded.\n",
    "- scene_token: A unique identifier for the scenario or environment the vehicle is in"
   ]
  },
  {
   "cell_type": "markdown",
   "metadata": {},
   "source": [
    "Load the CSV data into a DataFrame\n"
   ]
  },
  {
   "cell_type": "code",
   "execution_count": 3,
   "metadata": {},
   "outputs": [
    {
     "data": {
      "text/html": [
       "<div>\n",
       "<style scoped>\n",
       "    .dataframe tbody tr th:only-of-type {\n",
       "        vertical-align: middle;\n",
       "    }\n",
       "\n",
       "    .dataframe tbody tr th {\n",
       "        vertical-align: top;\n",
       "    }\n",
       "\n",
       "    .dataframe thead th {\n",
       "        text-align: right;\n",
       "    }\n",
       "</style>\n",
       "<table border=\"1\" class=\"dataframe\">\n",
       "  <thead>\n",
       "    <tr style=\"text-align: right;\">\n",
       "      <th></th>\n",
       "      <th>sample_token</th>\n",
       "      <th>scene_token</th>\n",
       "      <th>steering_angle</th>\n",
       "      <th>location</th>\n",
       "      <th>modality</th>\n",
       "      <th>timestamp</th>\n",
       "      <th>rotation</th>\n",
       "      <th>x</th>\n",
       "      <th>y</th>\n",
       "      <th>z</th>\n",
       "      <th>yaw</th>\n",
       "      <th>velocity</th>\n",
       "      <th>acceleration</th>\n",
       "      <th>yaw_rate</th>\n",
       "      <th>delta_local_x</th>\n",
       "      <th>delta_local_y</th>\n",
       "    </tr>\n",
       "  </thead>\n",
       "  <tbody>\n",
       "    <tr>\n",
       "      <th>0</th>\n",
       "      <td>3481dbfd65864925b4a4b2d6b7256d44</td>\n",
       "      <td>0053e9c440a94c1b84bd9c4223efc4b0</td>\n",
       "      <td>0.179841</td>\n",
       "      <td>boston-seaport</td>\n",
       "      <td>lidar</td>\n",
       "      <td>2018-07-27 16:20:29.048702</td>\n",
       "      <td>[0.27668389210179944, -0.0026796705507768723, ...</td>\n",
       "      <td>427.968583</td>\n",
       "      <td>1622.155828</td>\n",
       "      <td>0.0</td>\n",
       "      <td>2.580930</td>\n",
       "      <td>0.000004</td>\n",
       "      <td>NaN</td>\n",
       "      <td>0.000033</td>\n",
       "      <td>0.000000e+00</td>\n",
       "      <td>0.000000</td>\n",
       "    </tr>\n",
       "    <tr>\n",
       "      <th>1</th>\n",
       "      <td>394d87634b6c46049c2f06e84026096a</td>\n",
       "      <td>0053e9c440a94c1b84bd9c4223efc4b0</td>\n",
       "      <td>0.179841</td>\n",
       "      <td>boston-seaport</td>\n",
       "      <td>lidar</td>\n",
       "      <td>2018-07-27 16:20:29.548597</td>\n",
       "      <td>[0.27667585323668453, -0.002728894247491543, 0...</td>\n",
       "      <td>427.968582</td>\n",
       "      <td>1622.155829</td>\n",
       "      <td>0.0</td>\n",
       "      <td>2.580947</td>\n",
       "      <td>0.000004</td>\n",
       "      <td>NaN</td>\n",
       "      <td>0.000033</td>\n",
       "      <td>-1.932876e-10</td>\n",
       "      <td>0.000002</td>\n",
       "    </tr>\n",
       "    <tr>\n",
       "      <th>2</th>\n",
       "      <td>656b4207ba9542b2a9bb7c03aa61b325</td>\n",
       "      <td>0053e9c440a94c1b84bd9c4223efc4b0</td>\n",
       "      <td>0.179841</td>\n",
       "      <td>boston-seaport</td>\n",
       "      <td>lidar</td>\n",
       "      <td>2018-07-27 16:20:30.048445</td>\n",
       "      <td>[0.2766247744031405, -0.0027369692279543625, 0...</td>\n",
       "      <td>427.968589</td>\n",
       "      <td>1622.155824</td>\n",
       "      <td>0.0</td>\n",
       "      <td>2.581053</td>\n",
       "      <td>0.000018</td>\n",
       "      <td>0.000028</td>\n",
       "      <td>0.000212</td>\n",
       "      <td>4.793629e-10</td>\n",
       "      <td>-0.000009</td>\n",
       "    </tr>\n",
       "    <tr>\n",
       "      <th>3</th>\n",
       "      <td>2f789ae558a84df9b8daee0674a7985f</td>\n",
       "      <td>0053e9c440a94c1b84bd9c4223efc4b0</td>\n",
       "      <td>0.179841</td>\n",
       "      <td>boston-seaport</td>\n",
       "      <td>lidar</td>\n",
       "      <td>2018-07-27 16:20:30.548859</td>\n",
       "      <td>[0.27663215946727443, -0.002737971665731827, 0...</td>\n",
       "      <td>427.968593</td>\n",
       "      <td>1622.155822</td>\n",
       "      <td>0.0</td>\n",
       "      <td>2.581038</td>\n",
       "      <td>0.000008</td>\n",
       "      <td>-0.000020</td>\n",
       "      <td>-0.000031</td>\n",
       "      <td>-7.657486e-11</td>\n",
       "      <td>-0.000004</td>\n",
       "    </tr>\n",
       "    <tr>\n",
       "      <th>4</th>\n",
       "      <td>623e58c15be546b39a36796a5b03d18f</td>\n",
       "      <td>0053e9c440a94c1b84bd9c4223efc4b0</td>\n",
       "      <td>0.178096</td>\n",
       "      <td>boston-seaport</td>\n",
       "      <td>lidar</td>\n",
       "      <td>2018-07-27 16:20:31.048731</td>\n",
       "      <td>[0.27662503731230986, -0.002729398219646146, 0...</td>\n",
       "      <td>427.968591</td>\n",
       "      <td>1622.155823</td>\n",
       "      <td>0.0</td>\n",
       "      <td>2.581052</td>\n",
       "      <td>0.000004</td>\n",
       "      <td>-0.000008</td>\n",
       "      <td>0.000029</td>\n",
       "      <td>7.038325e-10</td>\n",
       "      <td>0.000002</td>\n",
       "    </tr>\n",
       "  </tbody>\n",
       "</table>\n",
       "</div>"
      ],
      "text/plain": [
       "                       sample_token                       scene_token  \\\n",
       "0  3481dbfd65864925b4a4b2d6b7256d44  0053e9c440a94c1b84bd9c4223efc4b0   \n",
       "1  394d87634b6c46049c2f06e84026096a  0053e9c440a94c1b84bd9c4223efc4b0   \n",
       "2  656b4207ba9542b2a9bb7c03aa61b325  0053e9c440a94c1b84bd9c4223efc4b0   \n",
       "3  2f789ae558a84df9b8daee0674a7985f  0053e9c440a94c1b84bd9c4223efc4b0   \n",
       "4  623e58c15be546b39a36796a5b03d18f  0053e9c440a94c1b84bd9c4223efc4b0   \n",
       "\n",
       "   steering_angle        location modality                  timestamp  \\\n",
       "0        0.179841  boston-seaport    lidar 2018-07-27 16:20:29.048702   \n",
       "1        0.179841  boston-seaport    lidar 2018-07-27 16:20:29.548597   \n",
       "2        0.179841  boston-seaport    lidar 2018-07-27 16:20:30.048445   \n",
       "3        0.179841  boston-seaport    lidar 2018-07-27 16:20:30.548859   \n",
       "4        0.178096  boston-seaport    lidar 2018-07-27 16:20:31.048731   \n",
       "\n",
       "                                            rotation           x            y  \\\n",
       "0  [0.27668389210179944, -0.0026796705507768723, ...  427.968583  1622.155828   \n",
       "1  [0.27667585323668453, -0.002728894247491543, 0...  427.968582  1622.155829   \n",
       "2  [0.2766247744031405, -0.0027369692279543625, 0...  427.968589  1622.155824   \n",
       "3  [0.27663215946727443, -0.002737971665731827, 0...  427.968593  1622.155822   \n",
       "4  [0.27662503731230986, -0.002729398219646146, 0...  427.968591  1622.155823   \n",
       "\n",
       "     z       yaw  velocity  acceleration  yaw_rate  delta_local_x  \\\n",
       "0  0.0  2.580930  0.000004           NaN  0.000033   0.000000e+00   \n",
       "1  0.0  2.580947  0.000004           NaN  0.000033  -1.932876e-10   \n",
       "2  0.0  2.581053  0.000018      0.000028  0.000212   4.793629e-10   \n",
       "3  0.0  2.581038  0.000008     -0.000020 -0.000031  -7.657486e-11   \n",
       "4  0.0  2.581052  0.000004     -0.000008  0.000029   7.038325e-10   \n",
       "\n",
       "   delta_local_y  \n",
       "0       0.000000  \n",
       "1       0.000002  \n",
       "2      -0.000009  \n",
       "3      -0.000004  \n",
       "4       0.000002  "
      ]
     },
     "execution_count": 3,
     "metadata": {},
     "output_type": "execute_result"
    }
   ],
   "source": [
    "\n",
    "dtype_dict = {\n",
    "    'modality': 'category',  # for limited set of modalities, 'category' is efficient\n",
    "    'scene_token': 'str',  \n",
    "    'timestamp': 'str',  # To enable datetime operations\n",
    "    'rotation': 'object',  # Quaternion (lists)\n",
    "    'x': 'float64',\n",
    "    'y': 'float64',\n",
    "    'z': 'float64',\n",
    "    'yaw': 'float64',  \n",
    "    'velocity': 'float64',\n",
    "    'acceleration': 'float64',\n",
    "    'heading_change_rate': 'float64',\n",
    "    'delta_local_x': 'float64',\n",
    "    'delta_local_y': 'float64'\n",
    "}\n",
    "nuscenes_df = pd.read_csv(DATAROOT / dataset_file, dtype=dtype_dict, parse_dates=['timestamp'])\n",
    "\n",
    "nuscenes_df.head()"
   ]
  },
  {
   "cell_type": "code",
   "execution_count": 4,
   "metadata": {},
   "outputs": [
    {
     "data": {
      "text/plain": [
       "(26848, 16)"
      ]
     },
     "execution_count": 4,
     "metadata": {},
     "output_type": "execute_result"
    }
   ],
   "source": [
    "nuscenes_df.shape"
   ]
  },
  {
   "cell_type": "markdown",
   "metadata": {},
   "source": [
    "## Extract Relevant Annotated Data from DriveLM"
   ]
  },
  {
   "cell_type": "markdown",
   "metadata": {},
   "source": [
    "For DriveLM-nuScenes, we divide the annotation process into three steps:\n",
    "\n",
    "1️⃣ Keyframe selection. Given all frames in one clip, the annotator selects the keyframes that need annotation. The criterion is that those frames should involve changes in ego-vehicle movement status (lane changes, sudden stops, start after a stop, etc.).\n",
    "\n",
    "2️⃣ Key objects selection. Given keyframes, the annotator needs to pick up key objects in the six surrounding images. The criterion is that those objects should be able to affect the action of the ego vehicle (traffic signals, pedestrians crossing the road, other vehicles that move in the direction of the ego vehicle, etc.).\n",
    "\n",
    "3️⃣ Question and answer annotation. Given those key objects, we automatically generate questions regarding single or multiple objects about perception, prediction, and planning. More details can be found in our data.\n",
    "\n",
    "Ref: https://github.com/OpenDriveLab/DriveLM/blob/data_release/docs/data_details.md"
   ]
  },
  {
   "cell_type": "code",
   "execution_count": 5,
   "metadata": {},
   "outputs": [
    {
     "data": {
      "text/html": [
       "<div>\n",
       "<style scoped>\n",
       "    .dataframe tbody tr th:only-of-type {\n",
       "        vertical-align: middle;\n",
       "    }\n",
       "\n",
       "    .dataframe tbody tr th {\n",
       "        vertical-align: top;\n",
       "    }\n",
       "\n",
       "    .dataframe thead th {\n",
       "        text-align: right;\n",
       "    }\n",
       "</style>\n",
       "<table border=\"1\" class=\"dataframe\">\n",
       "  <thead>\n",
       "    <tr style=\"text-align: right;\">\n",
       "      <th></th>\n",
       "      <th>scene_token</th>\n",
       "      <th>key_frame_token</th>\n",
       "      <th>steering_label</th>\n",
       "      <th>velocity_label</th>\n",
       "    </tr>\n",
       "  </thead>\n",
       "  <tbody>\n",
       "    <tr>\n",
       "      <th>0</th>\n",
       "      <td>f0f120e4d4b0441da90ec53b16ee169d</td>\n",
       "      <td>4a0798f849ca477ab18009c3a20b7df2</td>\n",
       "      <td>The ego vehicle is going straight</td>\n",
       "      <td>The ego vehicle is driving fast</td>\n",
       "    </tr>\n",
       "    <tr>\n",
       "      <th>1</th>\n",
       "      <td>f0f120e4d4b0441da90ec53b16ee169d</td>\n",
       "      <td>ffd1bdf020d145759224c629b501d2b2</td>\n",
       "      <td>The ego vehicle is going straight</td>\n",
       "      <td>The ego vehicle is driving slowly</td>\n",
       "    </tr>\n",
       "    <tr>\n",
       "      <th>2</th>\n",
       "      <td>f0f120e4d4b0441da90ec53b16ee169d</td>\n",
       "      <td>d9075c2a5f864a2b8abf41e703f4cf1c</td>\n",
       "      <td>The ego vehicle is going straight</td>\n",
       "      <td>The ego vehicle is driving slowly</td>\n",
       "    </tr>\n",
       "    <tr>\n",
       "      <th>3</th>\n",
       "      <td>f0f120e4d4b0441da90ec53b16ee169d</td>\n",
       "      <td>dfb8d8959b9944d69dcec6d05e419f04</td>\n",
       "      <td>The ego vehicle is going straight</td>\n",
       "      <td>The ego vehicle is driving fast</td>\n",
       "    </tr>\n",
       "    <tr>\n",
       "      <th>4</th>\n",
       "      <td>54cdaaae372d421fa4734d66f51a8c48</td>\n",
       "      <td>542eaf1fc9b34895a9e55fab57cb4cf4</td>\n",
       "      <td>The ego vehicle is going straight</td>\n",
       "      <td>The ego vehicle is driving slowly</td>\n",
       "    </tr>\n",
       "  </tbody>\n",
       "</table>\n",
       "</div>"
      ],
      "text/plain": [
       "                        scene_token                   key_frame_token  \\\n",
       "0  f0f120e4d4b0441da90ec53b16ee169d  4a0798f849ca477ab18009c3a20b7df2   \n",
       "1  f0f120e4d4b0441da90ec53b16ee169d  ffd1bdf020d145759224c629b501d2b2   \n",
       "2  f0f120e4d4b0441da90ec53b16ee169d  d9075c2a5f864a2b8abf41e703f4cf1c   \n",
       "3  f0f120e4d4b0441da90ec53b16ee169d  dfb8d8959b9944d69dcec6d05e419f04   \n",
       "4  54cdaaae372d421fa4734d66f51a8c48  542eaf1fc9b34895a9e55fab57cb4cf4   \n",
       "\n",
       "                      steering_label                      velocity_label  \n",
       "0  The ego vehicle is going straight     The ego vehicle is driving fast  \n",
       "1  The ego vehicle is going straight   The ego vehicle is driving slowly  \n",
       "2  The ego vehicle is going straight   The ego vehicle is driving slowly  \n",
       "3  The ego vehicle is going straight     The ego vehicle is driving fast  \n",
       "4  The ego vehicle is going straight   The ego vehicle is driving slowly  "
      ]
     },
     "execution_count": 5,
     "metadata": {},
     "output_type": "execute_result"
    }
   ],
   "source": [
    "# Function to extract relevant information and create dataframe\n",
    "def extract_behavior_data(data):\n",
    "    behavior_data = []\n",
    "    for scene_token, scene_info in data.items():\n",
    "        for key_frame_token, key_frame_info in scene_info.get(\"key_frames\", {}).items():\n",
    "            behavior_info = key_frame_info.get(\"QA\", {}).get(\"behavior\", [])\n",
    "            for behavior in behavior_info:\n",
    "                behavior_str = behavior.get(\"A\")\n",
    "                steering_angle, speed,_ = behavior_str.split('.')\n",
    "                behavior_data.append({\n",
    "                    \"scene_token\": scene_token,\n",
    "                    \"key_frame_token\": key_frame_token,\n",
    "                    #\"behavior\": behavior_str,\n",
    "                    \"steering_label\": steering_angle,#.replace('The ego vehicle is going ', '').strip(),\n",
    "                    \"velocity_label\": speed#.strip('fast.')\n",
    "                })\n",
    "    return pd.DataFrame(behavior_data)\n",
    "\n",
    "# Create dataframe\n",
    "\n",
    "drivelm_df = pd.read_json('/home/saramontese/Desktop/MasterThesis/example/dataset/data/sets/drivelm/v1_1_train_nus.json')\n",
    "behavior_df = extract_behavior_data(drivelm_df)\n",
    "\n",
    "# Display dataframe\n",
    "behavior_df.head()"
   ]
  },
  {
   "cell_type": "markdown",
   "metadata": {},
   "source": [
    "Given the selection strategy of the scenes, we check all the scenes included in DriveLM and exclude the one that are not in our train set. This means their are in the test set, and we do not want to include test information during training. "
   ]
  },
  {
   "cell_type": "code",
   "execution_count": 6,
   "metadata": {},
   "outputs": [
    {
     "name": "stdout",
     "output_type": "stream",
     "text": [
      "In DriveLM dataset there are 696 scenes.\n"
     ]
    }
   ],
   "source": [
    "drivelm_scenes = behavior_df['scene_token'].unique()\n",
    "print(f'In DriveLM dataset there are {len(drivelm_scenes)} scenes.')\n"
   ]
  },
  {
   "cell_type": "code",
   "execution_count": 7,
   "metadata": {},
   "outputs": [
    {
     "name": "stdout",
     "output_type": "stream",
     "text": [
      "In our split of nuScenes there are 668 scenes for the Train Set and 167 for the Test Set.\n"
     ]
    }
   ],
   "source": [
    "nuscenes_train_scenes = nuscenes_df['scene_token'].unique()\n",
    "print(f'In our split of nuScenes there are {len(nuscenes_train_scenes)} scenes for the Train Set and {1000-150-15-len(nuscenes_train_scenes)} for the Test Set.')"
   ]
  },
  {
   "cell_type": "code",
   "execution_count": 8,
   "metadata": {},
   "outputs": [
    {
     "name": "stdout",
     "output_type": "stream",
     "text": [
      "In DriveLM dataset there are 150 scenes from our Test Set.\n",
      "we exclude them to avoid including testing information during training.\n"
     ]
    }
   ],
   "source": [
    "scenes_only_in_drivelm = list(set(drivelm_scenes) - set(nuscenes_train_scenes))\n",
    "\n",
    "print(f'In DriveLM dataset there are {len(scenes_only_in_drivelm)} scenes from our Test Set.')\n",
    "print(f'we exclude them to avoid including testing information during training.')"
   ]
  },
  {
   "cell_type": "markdown",
   "metadata": {},
   "source": [
    "Delete nuScenes testing data from DriveLM"
   ]
  },
  {
   "cell_type": "code",
   "execution_count": 9,
   "metadata": {},
   "outputs": [
    {
     "data": {
      "text/plain": [
       "546"
      ]
     },
     "execution_count": 9,
     "metadata": {},
     "output_type": "execute_result"
    }
   ],
   "source": [
    "# Filter the dataframe to exclude these scenes\n",
    "drivelm_filtered = behavior_df[~behavior_df['scene_token'].isin(scenes_only_in_drivelm)]\n",
    "len(drivelm_filtered['scene_token'].unique())"
   ]
  },
  {
   "cell_type": "markdown",
   "metadata": {},
   "source": [
    "### Steering Angle Discretization "
   ]
  },
  {
   "cell_type": "markdown",
   "metadata": {},
   "source": [
    "Merge steering angle information from NuScenes to the human annotated label (straight, right, slight right, left, slight left) from DriveLm, on the 'sample_token' field\n"
   ]
  },
  {
   "cell_type": "code",
   "execution_count": 10,
   "metadata": {},
   "outputs": [],
   "source": [
    "can_df = pd.read_csv(DATAROOT / 'can_data.csv')[['sample_token','steering_angle']]\n",
    "merged_df = pd.merge(drivelm_filtered, can_df, left_on='key_frame_token', right_on='sample_token', how='inner')#.drop(columns=['location', 'sample_token', 'scene_token_y'])\n"
   ]
  },
  {
   "cell_type": "code",
   "execution_count": 17,
   "metadata": {},
   "outputs": [
    {
     "ename": "ValueError",
     "evalue": "Could not interpret value `steering_angle` for `x`. An entry with this name does not appear in `data`.",
     "output_type": "error",
     "traceback": [
      "\u001b[0;31m---------------------------------------------------------------------------\u001b[0m",
      "\u001b[0;31mValueError\u001b[0m                                Traceback (most recent call last)",
      "Cell \u001b[0;32mIn[17], line 3\u001b[0m\n\u001b[1;32m      1\u001b[0m \u001b[38;5;66;03m# Create the box plot\u001b[39;00m\n\u001b[1;32m      2\u001b[0m plt\u001b[38;5;241m.\u001b[39mfigure(figsize\u001b[38;5;241m=\u001b[39m(\u001b[38;5;241m15\u001b[39m, \u001b[38;5;241m8\u001b[39m))\n\u001b[0;32m----> 3\u001b[0m \u001b[43msns\u001b[49m\u001b[38;5;241;43m.\u001b[39;49m\u001b[43mboxplot\u001b[49m\u001b[43m(\u001b[49m\u001b[43mx\u001b[49m\u001b[38;5;241;43m=\u001b[39;49m\u001b[38;5;124;43m'\u001b[39;49m\u001b[38;5;124;43msteering_angle\u001b[39;49m\u001b[38;5;124;43m'\u001b[39;49m\u001b[43m,\u001b[49m\u001b[43m \u001b[49m\u001b[43my\u001b[49m\u001b[38;5;241;43m=\u001b[39;49m\u001b[38;5;124;43m'\u001b[39;49m\u001b[38;5;124;43msteering_label\u001b[39;49m\u001b[38;5;124;43m'\u001b[39;49m\u001b[43m,\u001b[49m\u001b[43m \u001b[49m\u001b[43mdata\u001b[49m\u001b[38;5;241;43m=\u001b[39;49m\u001b[43mmerged_df\u001b[49m\u001b[43m,\u001b[49m\u001b[43m \u001b[49m\u001b[43mpalette\u001b[49m\u001b[38;5;241;43m=\u001b[39;49m\u001b[38;5;124;43m'\u001b[39;49m\u001b[38;5;124;43mSet3\u001b[39;49m\u001b[38;5;124;43m'\u001b[39;49m\u001b[43m)\u001b[49m\n\u001b[1;32m      5\u001b[0m \u001b[38;5;66;03m#create legend\u001b[39;00m\n\u001b[1;32m      6\u001b[0m plt\u001b[38;5;241m.\u001b[39mlegend(title\u001b[38;5;241m=\u001b[39m\u001b[38;5;124m'\u001b[39m\u001b[38;5;124mSteering Behavior\u001b[39m\u001b[38;5;124m'\u001b[39m, bbox_to_anchor\u001b[38;5;241m=\u001b[39m(\u001b[38;5;241m1.05\u001b[39m, \u001b[38;5;241m1\u001b[39m), loc\u001b[38;5;241m=\u001b[39m\u001b[38;5;124m'\u001b[39m\u001b[38;5;124mupper left\u001b[39m\u001b[38;5;124m'\u001b[39m)\n",
      "File \u001b[0;32m~/.local/lib/python3.8/site-packages/seaborn/categorical.py:1597\u001b[0m, in \u001b[0;36mboxplot\u001b[0;34m(data, x, y, hue, order, hue_order, orient, color, palette, saturation, fill, dodge, width, gap, whis, linecolor, linewidth, fliersize, hue_norm, native_scale, log_scale, formatter, legend, ax, **kwargs)\u001b[0m\n\u001b[1;32m   1589\u001b[0m \u001b[38;5;28;01mdef\u001b[39;00m \u001b[38;5;21mboxplot\u001b[39m(\n\u001b[1;32m   1590\u001b[0m     data\u001b[38;5;241m=\u001b[39m\u001b[38;5;28;01mNone\u001b[39;00m, \u001b[38;5;241m*\u001b[39m, x\u001b[38;5;241m=\u001b[39m\u001b[38;5;28;01mNone\u001b[39;00m, y\u001b[38;5;241m=\u001b[39m\u001b[38;5;28;01mNone\u001b[39;00m, hue\u001b[38;5;241m=\u001b[39m\u001b[38;5;28;01mNone\u001b[39;00m, order\u001b[38;5;241m=\u001b[39m\u001b[38;5;28;01mNone\u001b[39;00m, hue_order\u001b[38;5;241m=\u001b[39m\u001b[38;5;28;01mNone\u001b[39;00m,\n\u001b[1;32m   1591\u001b[0m     orient\u001b[38;5;241m=\u001b[39m\u001b[38;5;28;01mNone\u001b[39;00m, color\u001b[38;5;241m=\u001b[39m\u001b[38;5;28;01mNone\u001b[39;00m, palette\u001b[38;5;241m=\u001b[39m\u001b[38;5;28;01mNone\u001b[39;00m, saturation\u001b[38;5;241m=\u001b[39m\u001b[38;5;241m.75\u001b[39m, fill\u001b[38;5;241m=\u001b[39m\u001b[38;5;28;01mTrue\u001b[39;00m,\n\u001b[0;32m   (...)\u001b[0m\n\u001b[1;32m   1594\u001b[0m     legend\u001b[38;5;241m=\u001b[39m\u001b[38;5;124m\"\u001b[39m\u001b[38;5;124mauto\u001b[39m\u001b[38;5;124m\"\u001b[39m, ax\u001b[38;5;241m=\u001b[39m\u001b[38;5;28;01mNone\u001b[39;00m, \u001b[38;5;241m*\u001b[39m\u001b[38;5;241m*\u001b[39mkwargs\n\u001b[1;32m   1595\u001b[0m ):\n\u001b[0;32m-> 1597\u001b[0m     p \u001b[38;5;241m=\u001b[39m \u001b[43m_CategoricalPlotter\u001b[49m\u001b[43m(\u001b[49m\n\u001b[1;32m   1598\u001b[0m \u001b[43m        \u001b[49m\u001b[43mdata\u001b[49m\u001b[38;5;241;43m=\u001b[39;49m\u001b[43mdata\u001b[49m\u001b[43m,\u001b[49m\n\u001b[1;32m   1599\u001b[0m \u001b[43m        \u001b[49m\u001b[43mvariables\u001b[49m\u001b[38;5;241;43m=\u001b[39;49m\u001b[38;5;28;43mdict\u001b[39;49m\u001b[43m(\u001b[49m\u001b[43mx\u001b[49m\u001b[38;5;241;43m=\u001b[39;49m\u001b[43mx\u001b[49m\u001b[43m,\u001b[49m\u001b[43m \u001b[49m\u001b[43my\u001b[49m\u001b[38;5;241;43m=\u001b[39;49m\u001b[43my\u001b[49m\u001b[43m,\u001b[49m\u001b[43m \u001b[49m\u001b[43mhue\u001b[49m\u001b[38;5;241;43m=\u001b[39;49m\u001b[43mhue\u001b[49m\u001b[43m)\u001b[49m\u001b[43m,\u001b[49m\n\u001b[1;32m   1600\u001b[0m \u001b[43m        \u001b[49m\u001b[43morder\u001b[49m\u001b[38;5;241;43m=\u001b[39;49m\u001b[43morder\u001b[49m\u001b[43m,\u001b[49m\n\u001b[1;32m   1601\u001b[0m \u001b[43m        \u001b[49m\u001b[43morient\u001b[49m\u001b[38;5;241;43m=\u001b[39;49m\u001b[43morient\u001b[49m\u001b[43m,\u001b[49m\n\u001b[1;32m   1602\u001b[0m \u001b[43m        \u001b[49m\u001b[43mcolor\u001b[49m\u001b[38;5;241;43m=\u001b[39;49m\u001b[43mcolor\u001b[49m\u001b[43m,\u001b[49m\n\u001b[1;32m   1603\u001b[0m \u001b[43m        \u001b[49m\u001b[43mlegend\u001b[49m\u001b[38;5;241;43m=\u001b[39;49m\u001b[43mlegend\u001b[49m\u001b[43m,\u001b[49m\n\u001b[1;32m   1604\u001b[0m \u001b[43m    \u001b[49m\u001b[43m)\u001b[49m\n\u001b[1;32m   1606\u001b[0m     \u001b[38;5;28;01mif\u001b[39;00m ax \u001b[38;5;129;01mis\u001b[39;00m \u001b[38;5;28;01mNone\u001b[39;00m:\n\u001b[1;32m   1607\u001b[0m         ax \u001b[38;5;241m=\u001b[39m plt\u001b[38;5;241m.\u001b[39mgca()\n",
      "File \u001b[0;32m~/.local/lib/python3.8/site-packages/seaborn/categorical.py:67\u001b[0m, in \u001b[0;36m_CategoricalPlotter.__init__\u001b[0;34m(self, data, variables, order, orient, require_numeric, color, legend)\u001b[0m\n\u001b[1;32m     56\u001b[0m \u001b[38;5;28;01mdef\u001b[39;00m \u001b[38;5;21m__init__\u001b[39m(\n\u001b[1;32m     57\u001b[0m     \u001b[38;5;28mself\u001b[39m,\n\u001b[1;32m     58\u001b[0m     data\u001b[38;5;241m=\u001b[39m\u001b[38;5;28;01mNone\u001b[39;00m,\n\u001b[0;32m   (...)\u001b[0m\n\u001b[1;32m     64\u001b[0m     legend\u001b[38;5;241m=\u001b[39m\u001b[38;5;124m\"\u001b[39m\u001b[38;5;124mauto\u001b[39m\u001b[38;5;124m\"\u001b[39m,\n\u001b[1;32m     65\u001b[0m ):\n\u001b[0;32m---> 67\u001b[0m     \u001b[38;5;28;43msuper\u001b[39;49m\u001b[43m(\u001b[49m\u001b[43m)\u001b[49m\u001b[38;5;241;43m.\u001b[39;49m\u001b[38;5;21;43m__init__\u001b[39;49m\u001b[43m(\u001b[49m\u001b[43mdata\u001b[49m\u001b[38;5;241;43m=\u001b[39;49m\u001b[43mdata\u001b[49m\u001b[43m,\u001b[49m\u001b[43m \u001b[49m\u001b[43mvariables\u001b[49m\u001b[38;5;241;43m=\u001b[39;49m\u001b[43mvariables\u001b[49m\u001b[43m)\u001b[49m\n\u001b[1;32m     69\u001b[0m     \u001b[38;5;66;03m# This method takes care of some bookkeeping that is necessary because the\u001b[39;00m\n\u001b[1;32m     70\u001b[0m     \u001b[38;5;66;03m# original categorical plots (prior to the 2021 refactor) had some rules that\u001b[39;00m\n\u001b[1;32m     71\u001b[0m     \u001b[38;5;66;03m# don't fit exactly into VectorPlotter logic. It may be wise to have a second\u001b[39;00m\n\u001b[0;32m   (...)\u001b[0m\n\u001b[1;32m     76\u001b[0m     \u001b[38;5;66;03m# default VectorPlotter rules. If we do decide to make orient part of the\u001b[39;00m\n\u001b[1;32m     77\u001b[0m     \u001b[38;5;66;03m# _base variable assignment, we'll want to figure out how to express that.\u001b[39;00m\n\u001b[1;32m     78\u001b[0m     \u001b[38;5;28;01mif\u001b[39;00m \u001b[38;5;28mself\u001b[39m\u001b[38;5;241m.\u001b[39minput_format \u001b[38;5;241m==\u001b[39m \u001b[38;5;124m\"\u001b[39m\u001b[38;5;124mwide\u001b[39m\u001b[38;5;124m\"\u001b[39m \u001b[38;5;129;01mand\u001b[39;00m orient \u001b[38;5;129;01min\u001b[39;00m [\u001b[38;5;124m\"\u001b[39m\u001b[38;5;124mh\u001b[39m\u001b[38;5;124m\"\u001b[39m, \u001b[38;5;124m\"\u001b[39m\u001b[38;5;124my\u001b[39m\u001b[38;5;124m\"\u001b[39m]:\n",
      "File \u001b[0;32m~/.local/lib/python3.8/site-packages/seaborn/_base.py:634\u001b[0m, in \u001b[0;36mVectorPlotter.__init__\u001b[0;34m(self, data, variables)\u001b[0m\n\u001b[1;32m    629\u001b[0m \u001b[38;5;66;03m# var_ordered is relevant only for categorical axis variables, and may\u001b[39;00m\n\u001b[1;32m    630\u001b[0m \u001b[38;5;66;03m# be better handled by an internal axis information object that tracks\u001b[39;00m\n\u001b[1;32m    631\u001b[0m \u001b[38;5;66;03m# such information and is set up by the scale_* methods. The analogous\u001b[39;00m\n\u001b[1;32m    632\u001b[0m \u001b[38;5;66;03m# information for numeric axes would be information about log scales.\u001b[39;00m\n\u001b[1;32m    633\u001b[0m \u001b[38;5;28mself\u001b[39m\u001b[38;5;241m.\u001b[39m_var_ordered \u001b[38;5;241m=\u001b[39m {\u001b[38;5;124m\"\u001b[39m\u001b[38;5;124mx\u001b[39m\u001b[38;5;124m\"\u001b[39m: \u001b[38;5;28;01mFalse\u001b[39;00m, \u001b[38;5;124m\"\u001b[39m\u001b[38;5;124my\u001b[39m\u001b[38;5;124m\"\u001b[39m: \u001b[38;5;28;01mFalse\u001b[39;00m}  \u001b[38;5;66;03m# alt., used DefaultDict\u001b[39;00m\n\u001b[0;32m--> 634\u001b[0m \u001b[38;5;28;43mself\u001b[39;49m\u001b[38;5;241;43m.\u001b[39;49m\u001b[43massign_variables\u001b[49m\u001b[43m(\u001b[49m\u001b[43mdata\u001b[49m\u001b[43m,\u001b[49m\u001b[43m \u001b[49m\u001b[43mvariables\u001b[49m\u001b[43m)\u001b[49m\n\u001b[1;32m    636\u001b[0m \u001b[38;5;66;03m# TODO Lots of tests assume that these are called to initialize the\u001b[39;00m\n\u001b[1;32m    637\u001b[0m \u001b[38;5;66;03m# mappings to default values on class initialization. I'd prefer to\u001b[39;00m\n\u001b[1;32m    638\u001b[0m \u001b[38;5;66;03m# move away from that and only have a mapping when explicitly called.\u001b[39;00m\n\u001b[1;32m    639\u001b[0m \u001b[38;5;28;01mfor\u001b[39;00m var \u001b[38;5;129;01min\u001b[39;00m [\u001b[38;5;124m\"\u001b[39m\u001b[38;5;124mhue\u001b[39m\u001b[38;5;124m\"\u001b[39m, \u001b[38;5;124m\"\u001b[39m\u001b[38;5;124msize\u001b[39m\u001b[38;5;124m\"\u001b[39m, \u001b[38;5;124m\"\u001b[39m\u001b[38;5;124mstyle\u001b[39m\u001b[38;5;124m\"\u001b[39m]:\n",
      "File \u001b[0;32m~/.local/lib/python3.8/site-packages/seaborn/_base.py:679\u001b[0m, in \u001b[0;36mVectorPlotter.assign_variables\u001b[0;34m(self, data, variables)\u001b[0m\n\u001b[1;32m    674\u001b[0m \u001b[38;5;28;01melse\u001b[39;00m:\n\u001b[1;32m    675\u001b[0m     \u001b[38;5;66;03m# When dealing with long-form input, use the newer PlotData\u001b[39;00m\n\u001b[1;32m    676\u001b[0m     \u001b[38;5;66;03m# object (internal but introduced for the objects interface)\u001b[39;00m\n\u001b[1;32m    677\u001b[0m     \u001b[38;5;66;03m# to centralize / standardize data consumption logic.\u001b[39;00m\n\u001b[1;32m    678\u001b[0m     \u001b[38;5;28mself\u001b[39m\u001b[38;5;241m.\u001b[39minput_format \u001b[38;5;241m=\u001b[39m \u001b[38;5;124m\"\u001b[39m\u001b[38;5;124mlong\u001b[39m\u001b[38;5;124m\"\u001b[39m\n\u001b[0;32m--> 679\u001b[0m     plot_data \u001b[38;5;241m=\u001b[39m \u001b[43mPlotData\u001b[49m\u001b[43m(\u001b[49m\u001b[43mdata\u001b[49m\u001b[43m,\u001b[49m\u001b[43m \u001b[49m\u001b[43mvariables\u001b[49m\u001b[43m)\u001b[49m\n\u001b[1;32m    680\u001b[0m     frame \u001b[38;5;241m=\u001b[39m plot_data\u001b[38;5;241m.\u001b[39mframe\n\u001b[1;32m    681\u001b[0m     names \u001b[38;5;241m=\u001b[39m plot_data\u001b[38;5;241m.\u001b[39mnames\n",
      "File \u001b[0;32m~/.local/lib/python3.8/site-packages/seaborn/_core/data.py:58\u001b[0m, in \u001b[0;36mPlotData.__init__\u001b[0;34m(self, data, variables)\u001b[0m\n\u001b[1;32m     51\u001b[0m \u001b[38;5;28;01mdef\u001b[39;00m \u001b[38;5;21m__init__\u001b[39m(\n\u001b[1;32m     52\u001b[0m     \u001b[38;5;28mself\u001b[39m,\n\u001b[1;32m     53\u001b[0m     data: DataSource,\n\u001b[1;32m     54\u001b[0m     variables: \u001b[38;5;28mdict\u001b[39m[\u001b[38;5;28mstr\u001b[39m, VariableSpec],\n\u001b[1;32m     55\u001b[0m ):\n\u001b[1;32m     57\u001b[0m     data \u001b[38;5;241m=\u001b[39m handle_data_source(data)\n\u001b[0;32m---> 58\u001b[0m     frame, names, ids \u001b[38;5;241m=\u001b[39m \u001b[38;5;28;43mself\u001b[39;49m\u001b[38;5;241;43m.\u001b[39;49m\u001b[43m_assign_variables\u001b[49m\u001b[43m(\u001b[49m\u001b[43mdata\u001b[49m\u001b[43m,\u001b[49m\u001b[43m \u001b[49m\u001b[43mvariables\u001b[49m\u001b[43m)\u001b[49m\n\u001b[1;32m     60\u001b[0m     \u001b[38;5;28mself\u001b[39m\u001b[38;5;241m.\u001b[39mframe \u001b[38;5;241m=\u001b[39m frame\n\u001b[1;32m     61\u001b[0m     \u001b[38;5;28mself\u001b[39m\u001b[38;5;241m.\u001b[39mnames \u001b[38;5;241m=\u001b[39m names\n",
      "File \u001b[0;32m~/.local/lib/python3.8/site-packages/seaborn/_core/data.py:232\u001b[0m, in \u001b[0;36mPlotData._assign_variables\u001b[0;34m(self, data, variables)\u001b[0m\n\u001b[1;32m    230\u001b[0m     \u001b[38;5;28;01melse\u001b[39;00m:\n\u001b[1;32m    231\u001b[0m         err \u001b[38;5;241m+\u001b[39m\u001b[38;5;241m=\u001b[39m \u001b[38;5;124m\"\u001b[39m\u001b[38;5;124mAn entry with this name does not appear in `data`.\u001b[39m\u001b[38;5;124m\"\u001b[39m\n\u001b[0;32m--> 232\u001b[0m     \u001b[38;5;28;01mraise\u001b[39;00m \u001b[38;5;167;01mValueError\u001b[39;00m(err)\n\u001b[1;32m    234\u001b[0m \u001b[38;5;28;01melse\u001b[39;00m:\n\u001b[1;32m    235\u001b[0m \n\u001b[1;32m    236\u001b[0m     \u001b[38;5;66;03m# Otherwise, assume the value somehow represents data\u001b[39;00m\n\u001b[1;32m    237\u001b[0m \n\u001b[1;32m    238\u001b[0m     \u001b[38;5;66;03m# Ignore empty data structures\u001b[39;00m\n\u001b[1;32m    239\u001b[0m     \u001b[38;5;28;01mif\u001b[39;00m \u001b[38;5;28misinstance\u001b[39m(val, Sized) \u001b[38;5;129;01mand\u001b[39;00m \u001b[38;5;28mlen\u001b[39m(val) \u001b[38;5;241m==\u001b[39m \u001b[38;5;241m0\u001b[39m:\n",
      "\u001b[0;31mValueError\u001b[0m: Could not interpret value `steering_angle` for `x`. An entry with this name does not appear in `data`."
     ]
    },
    {
     "data": {
      "text/plain": [
       "<Figure size 1500x800 with 0 Axes>"
      ]
     },
     "metadata": {},
     "output_type": "display_data"
    }
   ],
   "source": [
    "# Create the box plot\n",
    "plt.figure(figsize=(15, 8))\n",
    "sns.boxplot(x='steering_angle', y='steering_label', data=merged_df, palette='Set3')\n",
    "\n",
    "#create legend\n",
    "plt.legend(title='Steering Behavior', bbox_to_anchor=(1.05, 1), loc='upper left')\n",
    "\n",
    "# Create a legend\n",
    "legend_elements = [\n",
    "    Patch(facecolor=sns.color_palette('Set3')[2], edgecolor='black', label='Right'),\n",
    "    Patch(facecolor=sns.color_palette('Set3')[1], edgecolor='black', label='Slightly Right'),\n",
    "    Patch(facecolor=sns.color_palette('Set3')[0], edgecolor='black', label='Straight'),\n",
    "    Patch(facecolor=sns.color_palette('Set3')[3], edgecolor='black', label='Slightly Left'),\n",
    "    Patch(facecolor=sns.color_palette('Set3')[4], edgecolor='black', label='Left')\n",
    "    \n",
    "]\n",
    "\n",
    "plt.legend(handles=legend_elements, title='Steering Behavior', bbox_to_anchor=(1.05, 1), loc='upper left')\n",
    "\n",
    "\n",
    "# Set plot title and labels\n",
    "plt.title('Box Plot of Steering Angle by Steering Behavior')\n",
    "plt.xlabel('Steering Angle')\n",
    "plt.ylabel('Steering Behavior')\n",
    "plt.yticks([])\n",
    "\n",
    "# Display the plot\n",
    "plt.tight_layout()\n",
    "plt.show()"
   ]
  },
  {
   "cell_type": "code",
   "execution_count": 12,
   "metadata": {},
   "outputs": [
    {
     "name": "stdout",
     "output_type": "stream",
     "text": [
      "steering_label\n",
      "The ego vehicle is going straight                    (-0.2867895294676068, 0.27338918491059877)\n",
      "The ego vehicle is slightly steering to the left       (-1.5175817784870558, 3.215895103945492)\n",
      "The ego vehicle is slightly steering to the right     (-2.3987751180862764, 0.3229578871309232)\n",
      "The ego vehicle is steering to the left                 (0.1605702911834831, 5.832962335677019)\n",
      "The ego vehicle is steering to the right               (-7.059964787585022, 0.0052359877559861)\n",
      "Name: steering_angle, dtype: object\n"
     ]
    }
   ],
   "source": [
    "# Group the data by steering angle and calculate IQR for each group\n",
    "#note: we exclude outliers\n",
    "def get_whiskers(x):\n",
    "    Q1 = x.quantile(0.25)\n",
    "    Q3 = x.quantile(0.75)\n",
    "    IQR = Q3 - Q1\n",
    "    lower_whisker = max(x.min(), Q1 - 1.5 * IQR)\n",
    "    upper_whisker = min(x.max(), Q3 + 1.5 * IQR)\n",
    "    return (lower_whisker, upper_whisker)\n",
    "\n",
    "iqr_per_steering_angle = merged_df.groupby('steering_label')['steering_angle'].apply(get_whiskers)\n",
    "# Display the calculated IQR for each steering angle\n",
    "print(iqr_per_steering_angle)\n"
   ]
  },
  {
   "cell_type": "markdown",
   "metadata": {},
   "source": [
    "thresholds = [-7.059964787585022, -2.3987751180862764, -0.2867895294676068, 0.27338918491059877, 3.215895103945492, 5.832962335677019]"
   ]
  },
  {
   "cell_type": "markdown",
   "metadata": {},
   "source": [
    "### Velocity Discretization"
   ]
  },
  {
   "cell_type": "markdown",
   "metadata": {},
   "source": [
    "Merge speed information from NuScenes to the human annotated label ('not moving', 'slow', 'normal', 'fast', 'very fast') from DriveLm, on the 'sample_token' field\n"
   ]
  },
  {
   "cell_type": "code",
   "execution_count": 13,
   "metadata": {},
   "outputs": [],
   "source": [
    "velocity_df = nuscenes_df[['sample_token','velocity']]\n",
    "merged_df = pd.merge(drivelm_filtered, velocity_df, left_on='key_frame_token', right_on='sample_token', how='inner')\n"
   ]
  },
  {
   "cell_type": "code",
   "execution_count": 14,
   "metadata": {},
   "outputs": [
    {
     "name": "stderr",
     "output_type": "stream",
     "text": [
      "/tmp/ipykernel_180792/2265273780.py:3: FutureWarning: \n",
      "\n",
      "Passing `palette` without assigning `hue` is deprecated and will be removed in v0.14.0. Assign the `y` variable to `hue` and set `legend=False` for the same effect.\n",
      "\n",
      "  sns.boxplot(x='velocity', y='velocity_label', data=merged_df, palette='Set3')\n",
      "No artists with labels found to put in legend.  Note that artists whose label start with an underscore are ignored when legend() is called with no argument.\n"
     ]
    },
    {
     "data": {
      "image/png": "[encoded data removed]",
      "text/plain": [
       "<Figure size 1500x800 with 1 Axes>"
      ]
     },
     "metadata": {},
     "output_type": "display_data"
    }
   ],
   "source": [
    "# Create the box plot\n",
    "plt.figure(figsize=(15, 8))\n",
    "sns.boxplot(x='velocity', y='velocity_label', data=merged_df, palette='Set3')\n",
    "\n",
    "#create legend\n",
    "plt.legend(title='Speed Behavior', bbox_to_anchor=(1.05, 1), loc='upper left')\n",
    "\n",
    "# Create a legend\n",
    "legend_elements = [\n",
    "    Patch(facecolor=sns.color_palette('Set3')[2], edgecolor='black', label='Stopped')\n",
    "    Patch(facecolor=sns.color_palette('Set3')[1], edgecolor='black', label='Slow'),\n",
    "    Patch(facecolor=sns.color_palette('Set3')[3], edgecolor='black', label='Medium'),\n",
    "    Patch(facecolor=sns.color_palette('Set3')[0], edgecolor='black', label='Fast'),\n",
    "    Patch(facecolor=sns.color_palette('Set3')[4], edgecolor='black', label='Very Fast')\n",
    "    \n",
    "]\n",
    "\n",
    "plt.legend(handles=legend_elements, title='Speed Behavior', bbox_to_anchor=(1.05, 1), loc='upper left')\n",
    "\n",
    "\n",
    "# Set plot title and labels\n",
    "plt.title('Box Plot of Speed Values by Speed Behavior')\n",
    "plt.xlabel('Speed Angle')\n",
    "plt.ylabel('Speed Behavior')\n",
    "#plt.yticks([])\n",
    "\n",
    "# Display the plot\n",
    "plt.tight_layout()\n",
    "plt.show()"
   ]
  },
  {
   "cell_type": "code",
   "execution_count": 15,
   "metadata": {},
   "outputs": [
    {
     "name": "stdout",
     "output_type": "stream",
     "text": [
      "velocity_label\n",
      " The ego vehicle is driving fast                     (3.5982759592782734, 11.087233438147942)\n",
      " The ego vehicle is driving slowly                (3.4960907241385346e-07, 7.269930491687321)\n",
      " The ego vehicle is driving very fast                 (6.711242928541665, 14.274223926233333)\n",
      " The ego vehicle is driving with normal speed          (1.8710851866181795, 8.54211115685087)\n",
      " The ego vehicle is not moving                   (5.947235439243747e-09, 0.16630834573952916)\n",
      "Name: velocity, dtype: object\n"
     ]
    }
   ],
   "source": [
    "iqr_per_velocity = merged_df.groupby('velocity_label')['velocity'].apply(get_whiskers)\n",
    "# Display the calculated IQR for each velocity label\n",
    "print(iqr_per_velocity)"
   ]
  },
  {
   "cell_type": "markdown",
   "metadata": {},
   "source": [
    "threshold =  [0.16630834573952916, 7.269930491687321, 8.54211115685087, 11.087233438147942,  14.274223926233333]"
   ]
  }
 ],
 "metadata": {
  "kernelspec": {
   "display_name": "nuscenes",
   "language": "python",
   "name": "python3"
  },
  "language_info": {
   "codemirror_mode": {
    "name": "ipython",
    "version": 3
   },
   "file_extension": ".py",
   "mimetype": "text/x-python",
   "name": "python",
   "nbconvert_exporter": "python",
   "pygments_lexer": "ipython3",
   "version": "3.8.10"
  }
 },
 "nbformat": 4,
 "nbformat_minor": 2
}
